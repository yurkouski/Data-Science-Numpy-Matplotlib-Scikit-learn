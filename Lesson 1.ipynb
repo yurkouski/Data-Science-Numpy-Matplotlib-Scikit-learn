{
 "cells": [
  {
   "cell_type": "code",
   "execution_count": null,
   "id": "fc3de634",
   "metadata": {},
   "outputs": [],
   "source": [
    "import numpy as np\n",
    "import pandas as pd"
   ]
  },
  {
   "cell_type": "markdown",
   "id": "1f6a1aef",
   "metadata": {},
   "source": [
    "Вычисления с помощью Numpy"
   ]
  },
  {
   "cell_type": "code",
   "execution_count": null,
   "id": "c9303747",
   "metadata": {},
   "outputs": [],
   "source": [
    "#1\n",
    "a = np.array([[1, 6],\n",
    "             [2, 8],\n",
    "             [3, 11],\n",
    "             [3, 10],\n",
    "             [1, 7]])\n",
    "print(a[0:5, 0])\n",
    "print(a[0:5, 1])\n",
    "mean_a = np.mean(a[0:5, 0]), np.mean(a[0:5, 1])\n",
    "print(mean_a)\n"
   ]
  },
  {
   "cell_type": "code",
   "execution_count": null,
   "id": "16bacdae",
   "metadata": {},
   "outputs": [],
   "source": [
    "#1\n",
    "a_centered = a-mean_a\n",
    "print(a_centered)\n"
   ]
  },
  {
   "cell_type": "code",
   "execution_count": null,
   "id": "42100fa0",
   "metadata": {},
   "outputs": [],
   "source": [
    "#2\n",
    "a_centered_sp = (a_centered[0:5, 0]) @ (a_centered[0:5, 1])\n",
    "print(a_centered_sp)"
   ]
  },
  {
   "cell_type": "code",
   "execution_count": null,
   "id": "ef320a93",
   "metadata": {},
   "outputs": [],
   "source": [
    "#3\n",
    "print(a_centered_sp/(len(a_centered)-1))"
   ]
  },
  {
   "cell_type": "code",
   "execution_count": null,
   "id": "5cb0ad69",
   "metadata": {},
   "outputs": [],
   "source": [
    "#4\n",
    "A_t = a.transpose()\n",
    "print(A_t)\n",
    "\n",
    "a_cov = np.cov(A_t)\n",
    "print(a_cov)\n",
    "\n",
    "print(a_cov[0,1])"
   ]
  },
  {
   "cell_type": "markdown",
   "id": "efbfffc1",
   "metadata": {},
   "source": [
    "###Panda"
   ]
  },
  {
   "cell_type": "code",
   "execution_count": null,
   "id": "4c7115d5",
   "metadata": {},
   "outputs": [],
   "source": [
    "#1\n",
    "authors = pd.DataFrame({'author_id':[1, 2, 3],\n",
    "                        'author_name':['Тургенев', 'Чехов', 'Островский']}, columns = ['author_id', 'author_name'])"
   ]
  },
  {
   "cell_type": "code",
   "execution_count": null,
   "id": "75932fad",
   "metadata": {},
   "outputs": [],
   "source": [
    "authors"
   ]
  },
  {
   "cell_type": "code",
   "execution_count": null,
   "id": "21197154",
   "metadata": {},
   "outputs": [],
   "source": [
    "books = pd.DataFrame({'author_id':[1, 1, 1, 2, 2, 3, 3],\n",
    "                     'book_title':['Отцы и дети', 'Рудин', 'Дворянское гнездо', 'Толстый и тонкий', 'Дама с собачкой', 'Гроза', 'Таланты и поклонники'],\n",
    "                     'price':[450, 300, 350, 500, 450, 370, 290]}, columns=['author_id', 'book_title', 'price'])\n",
    "books"
   ]
  },
  {
   "cell_type": "code",
   "execution_count": null,
   "id": "70e06e50",
   "metadata": {},
   "outputs": [],
   "source": [
    "#2\n",
    "author_price = pd.merge(authors, books, on='author_id', how='inner')\n",
    "author_price"
   ]
  },
  {
   "cell_type": "code",
   "execution_count": null,
   "id": "35a22a5a",
   "metadata": {},
   "outputs": [],
   "source": [
    "#3\n",
    "top5 = author_price.nlargest(5, 'price')\n",
    "top5"
   ]
  },
  {
   "cell_type": "code",
   "execution_count": null,
   "id": "41298d2d",
   "metadata": {},
   "outputs": [],
   "source": [
    "#4\n",
    "authors_stat = author_price.groupby('author_name')\n",
    "authors_stat.agg({\"price\":[\"max\", \"min\", \"mean\"]})\n",
    "\n"
   ]
  },
  {
   "cell_type": "code",
   "execution_count": null,
   "id": "7b4465de",
   "metadata": {},
   "outputs": [],
   "source": [
    "#5\n",
    "cover = ['твердая', 'мягкая', 'мягкая', 'твердая', 'твердая', 'мягкая', 'мягкая']\n",
    "author_price['cover']=cover\n",
    "author_price"
   ]
  },
  {
   "cell_type": "code",
   "execution_count": null,
   "id": "c67bc2b7",
   "metadata": {},
   "outputs": [],
   "source": [
    "book_info = pd.pivot_table(author_price,\n",
    "               values='price',\n",
    "               index=[\"author_name\"],\n",
    "               columns=['cover'],\n",
    "               aggfunc=np.sum)\n",
    "book_info['мягкая'] = book_info['мягкая'].fillna(0)\n",
    "book_info['твердая'] = book_info['твердая'].fillna(0)\n",
    "book_info"
   ]
  },
  {
   "cell_type": "code",
   "execution_count": null,
   "id": "22f357b8",
   "metadata": {},
   "outputs": [],
   "source": [
    "book_info.to_pickle('book_info.pkl')"
   ]
  },
  {
   "cell_type": "code",
   "execution_count": null,
   "id": "a03098da",
   "metadata": {},
   "outputs": [],
   "source": [
    "book_info2 = pd.read_pickle('book_info.pkl')"
   ]
  },
  {
   "cell_type": "code",
   "execution_count": null,
   "id": "2a742183",
   "metadata": {},
   "outputs": [],
   "source": []
  },
  {
   "cell_type": "code",
   "execution_count": null,
   "id": "ce1fae11",
   "metadata": {},
   "outputs": [],
   "source": [
    "book_info.equals(book_info2)"
   ]
  }
 ],
 "metadata": {
  "kernelspec": {
   "display_name": "Python 3 (ipykernel)",
   "language": "python",
   "name": "python3"
  },
  "language_info": {
   "codemirror_mode": {
    "name": "ipython",
    "version": 3
   },
   "file_extension": ".py",
   "mimetype": "text/x-python",
   "name": "python",
   "nbconvert_exporter": "python",
   "pygments_lexer": "ipython3",
   "version": "3.10.3"
  }
 },
 "nbformat": 4,
 "nbformat_minor": 5
}
