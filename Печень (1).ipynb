{
 "cells": [
  {
   "cell_type": "markdown",
   "id": "f3db994f",
   "metadata": {},
   "source": [
    "Данная база данных содержит информацию о пациентах, которым была выполнена трансплантация печени и информацию о донорах, \n",
    "у которых проводилась эксплантация органов. Так же в её входит информация о некоторых интраоперационных параметрах и \n",
    "о раннем послеоперационном периоде.\n",
    "Цель Data Science проекта:\n",
    "    Цель проекта заключается в определении частоты развития ранней дисфункции трансплантата в послеоперационном периоде\n",
    "    и от каких параметров она зависит. Так же обучить модель ее прогнозировать.   "
   ]
  },
  {
   "cell_type": "markdown",
   "id": "48b9043d",
   "metadata": {},
   "source": [
    "# Загружаем необходимые библиотеки и модули"
   ]
  },
  {
   "cell_type": "code",
   "execution_count": 103,
   "id": "b2aed42d",
   "metadata": {},
   "outputs": [],
   "source": [
    "import numpy as np\n",
    "import pandas as pd\n",
    "import pickle #сохранение модели\n",
    "\n",
    "import matplotlib\n",
    "import matplotlib.image as img\n",
    "import matplotlib.pyplot as plt\n",
    "%matplotlib inline\n",
    "import seaborn as sns\n",
    "import warnings\n",
    "warnings.filterwarnings('ignore')\n",
    "\n",
    "#Грузим модули\n",
    "from scipy import stats\n",
    "from scipy.stats import pointbiserialr\n",
    "from sklearn.model_selection import train_test_split, KFold, GridSearchCV, cross_val_score\n",
    "from sklearn.linear_model import LinearRegression, LogisticRegression\n",
    "from sklearn.tree import DecisionTreeRegressor, plot_tree\n",
    "from sklearn.ensemble import RandomForestRegressor, GradientBoostingRegressor\n",
    "from sklearn.preprocessing import StandardScaler\n",
    "from sklearn.preprocessing import MinMaxScaler #Стандартизация признаков\n",
    "from sklearn.metrics import mean_squared_error as mse, r2_score as r2 #модуль качества\n",
    "from sklearn.metrics import accuracy_score #модуль качества\n",
    "from sklearn.svm import SVC #Support Vector Machine или Метод опорных векторов\n",
    "from sklearn.metrics import confusion_matrix # Матрица ошибок\n",
    "from sklearn.metrics import f1_score # F-метрика\n",
    "from sklearn.metrics import roc_auc_score, roc_curve # ROC-кривая\n"
   ]
  },
  {
   "cell_type": "markdown",
   "id": "12288355",
   "metadata": {},
   "source": [
    "# Загружаем датасет"
   ]
  },
  {
   "cell_type": "code",
   "execution_count": 2,
   "id": "ded7ae2d",
   "metadata": {},
   "outputs": [
    {
     "data": {
      "text/html": [
       "<div>\n",
       "<style scoped>\n",
       "    .dataframe tbody tr th:only-of-type {\n",
       "        vertical-align: middle;\n",
       "    }\n",
       "\n",
       "    .dataframe tbody tr th {\n",
       "        vertical-align: top;\n",
       "    }\n",
       "\n",
       "    .dataframe thead th {\n",
       "        text-align: right;\n",
       "    }\n",
       "</style>\n",
       "<table border=\"1\" class=\"dataframe\">\n",
       "  <thead>\n",
       "    <tr style=\"text-align: right;\">\n",
       "      <th></th>\n",
       "      <th>№</th>\n",
       "      <th>ФИО</th>\n",
       "      <th>Возраст реципиента</th>\n",
       "      <th>MELD</th>\n",
       "      <th>Этиология</th>\n",
       "      <th>Дата Операции</th>\n",
       "      <th>Фульминант</th>\n",
       "      <th>Ургентные</th>\n",
       "      <th>Ретрансплантация</th>\n",
       "      <th>Осложнения</th>\n",
       "      <th>...</th>\n",
       "      <th>АЛТ (2 суток)</th>\n",
       "      <th>Прокальцитонин</th>\n",
       "      <th>Консервант</th>\n",
       "      <th>Общая ишемия</th>\n",
       "      <th>Время тепловой ишемии</th>\n",
       "      <th>Агепатика</th>\n",
       "      <th>Возраст донора</th>\n",
       "      <th>Стеатоз</th>\n",
       "      <th>Балонная дистрофия</th>\n",
       "      <th>Кровопотеря</th>\n",
       "    </tr>\n",
       "  </thead>\n",
       "  <tbody>\n",
       "    <tr>\n",
       "      <th>0</th>\n",
       "      <td>1</td>\n",
       "      <td>Янчур МИ 1958</td>\n",
       "      <td>52</td>\n",
       "      <td>18</td>\n",
       "      <td>2</td>\n",
       "      <td>2011-02-09</td>\n",
       "      <td>0</td>\n",
       "      <td>0</td>\n",
       "      <td>0</td>\n",
       "      <td>2</td>\n",
       "      <td>...</td>\n",
       "      <td>1033.0</td>\n",
       "      <td>NaN</td>\n",
       "      <td>1</td>\n",
       "      <td>570.0</td>\n",
       "      <td>180.0</td>\n",
       "      <td>180.0</td>\n",
       "      <td>24</td>\n",
       "      <td>5</td>\n",
       "      <td>0</td>\n",
       "      <td>6000.0</td>\n",
       "    </tr>\n",
       "    <tr>\n",
       "      <th>1</th>\n",
       "      <td>2</td>\n",
       "      <td>Бордак Настя</td>\n",
       "      <td>17</td>\n",
       "      <td>36</td>\n",
       "      <td>3</td>\n",
       "      <td>2011-02-16</td>\n",
       "      <td>0</td>\n",
       "      <td>0</td>\n",
       "      <td>0</td>\n",
       "      <td>2</td>\n",
       "      <td>...</td>\n",
       "      <td>2704.0</td>\n",
       "      <td>NaN</td>\n",
       "      <td>1</td>\n",
       "      <td>270.0</td>\n",
       "      <td>70.0</td>\n",
       "      <td>70.0</td>\n",
       "      <td>28</td>\n",
       "      <td>5</td>\n",
       "      <td>0</td>\n",
       "      <td>3000.0</td>\n",
       "    </tr>\n",
       "    <tr>\n",
       "      <th>2</th>\n",
       "      <td>3</td>\n",
       "      <td>Anikeichik</td>\n",
       "      <td>52</td>\n",
       "      <td>39</td>\n",
       "      <td>1</td>\n",
       "      <td>2011-02-23</td>\n",
       "      <td>0</td>\n",
       "      <td>0</td>\n",
       "      <td>0</td>\n",
       "      <td>4</td>\n",
       "      <td>...</td>\n",
       "      <td>905.0</td>\n",
       "      <td>NaN</td>\n",
       "      <td>1</td>\n",
       "      <td>380.0</td>\n",
       "      <td>60.0</td>\n",
       "      <td>60.0</td>\n",
       "      <td>28</td>\n",
       "      <td>0</td>\n",
       "      <td>0</td>\n",
       "      <td>1900.0</td>\n",
       "    </tr>\n",
       "    <tr>\n",
       "      <th>3</th>\n",
       "      <td>4</td>\n",
       "      <td>Кайша А</td>\n",
       "      <td>34</td>\n",
       "      <td>14</td>\n",
       "      <td>14</td>\n",
       "      <td>2011-03-14</td>\n",
       "      <td>0</td>\n",
       "      <td>0</td>\n",
       "      <td>0</td>\n",
       "      <td>0</td>\n",
       "      <td>...</td>\n",
       "      <td>417.0</td>\n",
       "      <td>NaN</td>\n",
       "      <td>1</td>\n",
       "      <td>400.0</td>\n",
       "      <td>50.0</td>\n",
       "      <td>50.0</td>\n",
       "      <td>48</td>\n",
       "      <td>10</td>\n",
       "      <td>0</td>\n",
       "      <td>500.0</td>\n",
       "    </tr>\n",
       "    <tr>\n",
       "      <th>4</th>\n",
       "      <td>5</td>\n",
       "      <td>Карчава</td>\n",
       "      <td>25</td>\n",
       "      <td>15</td>\n",
       "      <td>1</td>\n",
       "      <td>2011-03-30</td>\n",
       "      <td>0</td>\n",
       "      <td>0</td>\n",
       "      <td>0</td>\n",
       "      <td>0</td>\n",
       "      <td>...</td>\n",
       "      <td>295.0</td>\n",
       "      <td>NaN</td>\n",
       "      <td>1</td>\n",
       "      <td>450.0</td>\n",
       "      <td>70.0</td>\n",
       "      <td>70.0</td>\n",
       "      <td>40</td>\n",
       "      <td>0</td>\n",
       "      <td>0</td>\n",
       "      <td>700.0</td>\n",
       "    </tr>\n",
       "  </tbody>\n",
       "</table>\n",
       "<p>5 rows × 26 columns</p>\n",
       "</div>"
      ],
      "text/plain": [
       "   №            ФИО  Возраст реципиента  MELD  Этиология Дата Операции  \\\n",
       "0  1  Янчур МИ 1958                  52    18          2    2011-02-09   \n",
       "1  2   Бордак Настя                  17    36          3    2011-02-16   \n",
       "2  3     Anikeichik                  52    39          1    2011-02-23   \n",
       "3  4        Кайша А                  34    14         14    2011-03-14   \n",
       "4  5        Карчава                  25    15          1    2011-03-30   \n",
       "\n",
       "   Фульминант  Ургентные  Ретрансплантация  Осложнения  ...  АЛТ (2 суток)  \\\n",
       "0           0          0                 0           2  ...         1033.0   \n",
       "1           0          0                 0           2  ...         2704.0   \n",
       "2           0          0                 0           4  ...          905.0   \n",
       "3           0          0                 0           0  ...          417.0   \n",
       "4           0          0                 0           0  ...          295.0   \n",
       "\n",
       "   Прокальцитонин  Консервант  Общая ишемия  Время тепловой ишемии  Агепатика  \\\n",
       "0             NaN           1         570.0                  180.0      180.0   \n",
       "1             NaN           1         270.0                   70.0       70.0   \n",
       "2             NaN           1         380.0                   60.0       60.0   \n",
       "3             NaN           1         400.0                   50.0       50.0   \n",
       "4             NaN           1         450.0                   70.0       70.0   \n",
       "\n",
       "   Возраст донора Стеатоз  Балонная дистрофия  Кровопотеря  \n",
       "0              24       5                   0       6000.0  \n",
       "1              28       5                   0       3000.0  \n",
       "2              28       0                   0       1900.0  \n",
       "3              48      10                   0        500.0  \n",
       "4              40       0                   0        700.0  \n",
       "\n",
       "[5 rows x 26 columns]"
      ]
     },
     "execution_count": 2,
     "metadata": {},
     "output_type": "execute_result"
    }
   ],
   "source": [
    "liver_df = pd.read_excel('C:\\\\Users\\\\Вася\\\\Desktop\\\\Ординатура\\\\База печень.xlsx')\n",
    "liver_df.head(5)\n"
   ]
  },
  {
   "cell_type": "markdown",
   "id": "c4f64cf4",
   "metadata": {},
   "source": [
    "Уменьшаем размеры базы данных:"
   ]
  },
  {
   "cell_type": "code",
   "execution_count": 3,
   "id": "f2502ff9",
   "metadata": {},
   "outputs": [],
   "source": [
    "def reduce_mem_usage(liver_df):\n",
    "    \"\"\" iterate through all the columns of a dataframe and modify the data type\n",
    "        to reduce memory usage.        \n",
    "    \"\"\"\n",
    "    start_mem = liver_df.memory_usage().sum() / 1024**2\n",
    "    print('Memory usage of dataframe is {:.2f} MB'.format(start_mem))\n",
    "    \n",
    "    for col in liver_df.columns:\n",
    "        col_type = liver_df[col].dtype\n",
    "        \n",
    "        if col_type != object:\n",
    "            c_min = liver_df[col].min()\n",
    "            c_max = liver_df[col].max()\n",
    "            if str(col_type)[:3] == 'int':\n",
    "                if c_min > np.iinfo(np.int8).min and c_max < np.iinfo(np.int8).max:\n",
    "                    liver_df[col] = liver_df[col].astype(np.int8)\n",
    "                elif c_min > np.iinfo(np.int16).min and c_max < np.iinfo(np.int16).max:\n",
    "                    liver_df[col] = liver_df[col].astype(np.int16)\n",
    "                elif c_min > np.iinfo(np.int32).min and c_max < np.iinfo(np.int32).max:\n",
    "                    liver_df[col] = liver_df[col].astype(np.int32)\n",
    "                elif c_min > np.iinfo(np.int64).min and c_max < np.iinfo(np.int64).max:\n",
    "                    liver_df[col] = liver_df[col].astype(np.int64)  \n",
    "            else:\n",
    "                if c_min > np.finfo(np.float32).min and c_max < np.finfo(np.float32).max:\n",
    "                    liver_df[col] = liver_df[col].astype(np.float32)\n",
    "                else:\n",
    "                    liver_df[col] = liver_df[col].astype(np.float64)\n",
    "        else:\n",
    "            liver_df[col] = liver_df[col].astype('category')\n",
    "\n",
    "    end_mem = liver_df.memory_usage().sum() / 1024**2\n",
    "    print('Memory usage after optimization is: {:.2f} MB'.format(end_mem))\n",
    "    print('Decreased by {:.1f}%'.format(100 * (start_mem - end_mem) / start_mem))\n",
    "    \n",
    "    return liver_df"
   ]
  },
  {
   "cell_type": "markdown",
   "id": "19229447",
   "metadata": {},
   "source": [
    "Информация о датасете:\n",
    "MELD - Шкала для прогноза (продолжительности) жизни пациента с терминальной стадией заболевания печени;\n",
    "Этиология - Основное заболевание пациента (закодировано);\n",
    "Фульминант - Умирающий пациент, который нуждается в экстренной пересадке;\n",
    "Ургентный - пациент, который не может быть выписан из стационара из-за тяжести болезни;\n",
    "Ретрансплантация - пациент, кому делается повторная пересадка;\n",
    "РДТ - ранняя дисфункция трансплантата;\n",
    "Релапаротомия - пациенты, кому после пересадки выполнялась повторная операция;\n",
    "Альтумин, АСТ, АЛТ - показатели печени;\n",
    "Консервант - раствор, с помощью которого проводилась промывка печени во время забора органа;\n",
    "Общая ишемия - время печени проведенное вне организма;\n",
    "Время тепловой ишемии - время органа перед трансплантацией без льда;\n",
    "Агепатика - время реципиента проведенное с отключенной печенью;\n",
    "Стеатоз - степень жирового перерождения печени;\n",
    "Балонная дистрофия печени - повреждение клеток печени;\n",
    "Кровопотеря - потеря крови во время пересадки."
   ]
  },
  {
   "cell_type": "code",
   "execution_count": 4,
   "id": "f426fd24",
   "metadata": {},
   "outputs": [
    {
     "data": {
      "text/plain": [
       "Index(['№', 'ФИО', 'Возраст реципиента', 'MELD', 'Этиология', 'Дата Операции',\n",
       "       'Фульминант', 'Ургентные', 'Ретрансплантация', 'Осложнения', 'РДТ',\n",
       "       'Релапаротомия', 'Альбумин', 'АСТ (1 сутки)', 'АСТ (2 суток)',\n",
       "       'АЛТ (1 сутки)', 'АЛТ (2 суток)', 'Прокальцитонин', 'Консервант',\n",
       "       'Общая ишемия', 'Время тепловой ишемии', 'Агепатика', 'Возраст донора',\n",
       "       'Стеатоз', 'Балонная дистрофия', 'Кровопотеря'],\n",
       "      dtype='object')"
      ]
     },
     "execution_count": 4,
     "metadata": {},
     "output_type": "execute_result"
    }
   ],
   "source": [
    "liver_df.columns"
   ]
  },
  {
   "cell_type": "code",
   "execution_count": 5,
   "id": "e429d8db",
   "metadata": {},
   "outputs": [
    {
     "data": {
      "text/plain": [
       "(459, 26)"
      ]
     },
     "execution_count": 5,
     "metadata": {},
     "output_type": "execute_result"
    }
   ],
   "source": [
    "liver_df.shape"
   ]
  },
  {
   "cell_type": "code",
   "execution_count": 6,
   "id": "73767c90",
   "metadata": {},
   "outputs": [
    {
     "name": "stdout",
     "output_type": "stream",
     "text": [
      "<class 'pandas.core.frame.DataFrame'>\n",
      "RangeIndex: 459 entries, 0 to 458\n",
      "Data columns (total 26 columns):\n",
      " #   Column                 Non-Null Count  Dtype         \n",
      "---  ------                 --------------  -----         \n",
      " 0   №                      459 non-null    int64         \n",
      " 1   ФИО                    459 non-null    object        \n",
      " 2   Возраст реципиента     459 non-null    int64         \n",
      " 3   MELD                   459 non-null    int64         \n",
      " 4   Этиология              459 non-null    int64         \n",
      " 5   Дата Операции          459 non-null    datetime64[ns]\n",
      " 6   Фульминант             459 non-null    int64         \n",
      " 7   Ургентные              459 non-null    int64         \n",
      " 8   Ретрансплантация       459 non-null    int64         \n",
      " 9   Осложнения             459 non-null    int64         \n",
      " 10  РДТ                    459 non-null    int64         \n",
      " 11  Релапаротомия          459 non-null    int64         \n",
      " 12  Альбумин               459 non-null    float64       \n",
      " 13  АСТ (1 сутки)          459 non-null    int64         \n",
      " 14  АСТ (2 суток)          458 non-null    float64       \n",
      " 15  АЛТ (1 сутки)          459 non-null    int64         \n",
      " 16  АЛТ (2 суток)          458 non-null    float64       \n",
      " 17  Прокальцитонин         257 non-null    object        \n",
      " 18  Консервант             459 non-null    int64         \n",
      " 19  Общая ишемия           458 non-null    float64       \n",
      " 20  Время тепловой ишемии  458 non-null    float64       \n",
      " 21  Агепатика              458 non-null    float64       \n",
      " 22  Возраст донора         459 non-null    int64         \n",
      " 23  Стеатоз                459 non-null    int64         \n",
      " 24  Балонная дистрофия     459 non-null    int64         \n",
      " 25  Кровопотеря            458 non-null    float64       \n",
      "dtypes: datetime64[ns](1), float64(7), int64(16), object(2)\n",
      "memory usage: 93.4+ KB\n"
     ]
    }
   ],
   "source": [
    "liver_df.info()"
   ]
  },
  {
   "cell_type": "markdown",
   "id": "99d34fb2",
   "metadata": {},
   "source": [
    "# Приводим данные впорядок: Очистка данных и EDA"
   ]
  },
  {
   "cell_type": "markdown",
   "id": "61d8a6dc",
   "metadata": {},
   "source": [
    "Удаляем ненужные столбцы:"
   ]
  },
  {
   "cell_type": "code",
   "execution_count": 7,
   "id": "e96683e0",
   "metadata": {},
   "outputs": [],
   "source": [
    "liver_df.drop([\"ФИО\", 'Балонная дистрофия'], axis=1, inplace=True)"
   ]
  },
  {
   "cell_type": "code",
   "execution_count": 8,
   "id": "840f2b2a",
   "metadata": {},
   "outputs": [
    {
     "data": {
      "text/html": [
       "<div>\n",
       "<style scoped>\n",
       "    .dataframe tbody tr th:only-of-type {\n",
       "        vertical-align: middle;\n",
       "    }\n",
       "\n",
       "    .dataframe tbody tr th {\n",
       "        vertical-align: top;\n",
       "    }\n",
       "\n",
       "    .dataframe thead th {\n",
       "        text-align: right;\n",
       "    }\n",
       "</style>\n",
       "<table border=\"1\" class=\"dataframe\">\n",
       "  <thead>\n",
       "    <tr style=\"text-align: right;\">\n",
       "      <th></th>\n",
       "      <th>Возраст реципиента</th>\n",
       "      <th>MELD</th>\n",
       "      <th>Этиология</th>\n",
       "      <th>Дата Операции</th>\n",
       "      <th>Фульминант</th>\n",
       "      <th>Ургентные</th>\n",
       "      <th>Ретрансплантация</th>\n",
       "      <th>Осложнения</th>\n",
       "      <th>РДТ</th>\n",
       "      <th>Релапаротомия</th>\n",
       "      <th>...</th>\n",
       "      <th>АСТ (2 суток)</th>\n",
       "      <th>АЛТ (1 сутки)</th>\n",
       "      <th>АЛТ (2 суток)</th>\n",
       "      <th>Консервант</th>\n",
       "      <th>Общая ишемия</th>\n",
       "      <th>Время тепловой ишемии</th>\n",
       "      <th>Агепатика</th>\n",
       "      <th>Возраст донора</th>\n",
       "      <th>Стеатоз</th>\n",
       "      <th>Кровопотеря</th>\n",
       "    </tr>\n",
       "  </thead>\n",
       "  <tbody>\n",
       "    <tr>\n",
       "      <th>0</th>\n",
       "      <td>52</td>\n",
       "      <td>18</td>\n",
       "      <td>2</td>\n",
       "      <td>2011-02-09</td>\n",
       "      <td>0</td>\n",
       "      <td>0</td>\n",
       "      <td>0</td>\n",
       "      <td>2</td>\n",
       "      <td>1</td>\n",
       "      <td>1</td>\n",
       "      <td>...</td>\n",
       "      <td>2508.0</td>\n",
       "      <td>496</td>\n",
       "      <td>1033.0</td>\n",
       "      <td>1</td>\n",
       "      <td>570.0</td>\n",
       "      <td>180.0</td>\n",
       "      <td>180.0</td>\n",
       "      <td>24</td>\n",
       "      <td>5</td>\n",
       "      <td>6000.0</td>\n",
       "    </tr>\n",
       "    <tr>\n",
       "      <th>1</th>\n",
       "      <td>17</td>\n",
       "      <td>36</td>\n",
       "      <td>3</td>\n",
       "      <td>2011-02-16</td>\n",
       "      <td>0</td>\n",
       "      <td>0</td>\n",
       "      <td>0</td>\n",
       "      <td>2</td>\n",
       "      <td>1</td>\n",
       "      <td>1</td>\n",
       "      <td>...</td>\n",
       "      <td>20.0</td>\n",
       "      <td>193</td>\n",
       "      <td>2704.0</td>\n",
       "      <td>1</td>\n",
       "      <td>270.0</td>\n",
       "      <td>70.0</td>\n",
       "      <td>70.0</td>\n",
       "      <td>28</td>\n",
       "      <td>5</td>\n",
       "      <td>3000.0</td>\n",
       "    </tr>\n",
       "    <tr>\n",
       "      <th>2</th>\n",
       "      <td>52</td>\n",
       "      <td>39</td>\n",
       "      <td>1</td>\n",
       "      <td>2011-02-23</td>\n",
       "      <td>0</td>\n",
       "      <td>0</td>\n",
       "      <td>0</td>\n",
       "      <td>4</td>\n",
       "      <td>0</td>\n",
       "      <td>1</td>\n",
       "      <td>...</td>\n",
       "      <td>1186.0</td>\n",
       "      <td>1127</td>\n",
       "      <td>905.0</td>\n",
       "      <td>1</td>\n",
       "      <td>380.0</td>\n",
       "      <td>60.0</td>\n",
       "      <td>60.0</td>\n",
       "      <td>28</td>\n",
       "      <td>0</td>\n",
       "      <td>1900.0</td>\n",
       "    </tr>\n",
       "    <tr>\n",
       "      <th>3</th>\n",
       "      <td>34</td>\n",
       "      <td>14</td>\n",
       "      <td>14</td>\n",
       "      <td>2011-03-14</td>\n",
       "      <td>0</td>\n",
       "      <td>0</td>\n",
       "      <td>0</td>\n",
       "      <td>0</td>\n",
       "      <td>1</td>\n",
       "      <td>1</td>\n",
       "      <td>...</td>\n",
       "      <td>361.0</td>\n",
       "      <td>266</td>\n",
       "      <td>417.0</td>\n",
       "      <td>1</td>\n",
       "      <td>400.0</td>\n",
       "      <td>50.0</td>\n",
       "      <td>50.0</td>\n",
       "      <td>48</td>\n",
       "      <td>10</td>\n",
       "      <td>500.0</td>\n",
       "    </tr>\n",
       "    <tr>\n",
       "      <th>4</th>\n",
       "      <td>25</td>\n",
       "      <td>15</td>\n",
       "      <td>1</td>\n",
       "      <td>2011-03-30</td>\n",
       "      <td>0</td>\n",
       "      <td>0</td>\n",
       "      <td>0</td>\n",
       "      <td>0</td>\n",
       "      <td>1</td>\n",
       "      <td>1</td>\n",
       "      <td>...</td>\n",
       "      <td>369.0</td>\n",
       "      <td>211</td>\n",
       "      <td>295.0</td>\n",
       "      <td>1</td>\n",
       "      <td>450.0</td>\n",
       "      <td>70.0</td>\n",
       "      <td>70.0</td>\n",
       "      <td>40</td>\n",
       "      <td>0</td>\n",
       "      <td>700.0</td>\n",
       "    </tr>\n",
       "  </tbody>\n",
       "</table>\n",
       "<p>5 rows × 22 columns</p>\n",
       "</div>"
      ],
      "text/plain": [
       "   Возраст реципиента  MELD  Этиология Дата Операции  Фульминант  Ургентные  \\\n",
       "0                  52    18          2    2011-02-09           0          0   \n",
       "1                  17    36          3    2011-02-16           0          0   \n",
       "2                  52    39          1    2011-02-23           0          0   \n",
       "3                  34    14         14    2011-03-14           0          0   \n",
       "4                  25    15          1    2011-03-30           0          0   \n",
       "\n",
       "   Ретрансплантация  Осложнения  РДТ  Релапаротомия  ...  АСТ (2 суток)  \\\n",
       "0                 0           2    1              1  ...         2508.0   \n",
       "1                 0           2    1              1  ...           20.0   \n",
       "2                 0           4    0              1  ...         1186.0   \n",
       "3                 0           0    1              1  ...          361.0   \n",
       "4                 0           0    1              1  ...          369.0   \n",
       "\n",
       "   АЛТ (1 сутки)  АЛТ (2 суток)  Консервант  Общая ишемия  \\\n",
       "0            496         1033.0           1         570.0   \n",
       "1            193         2704.0           1         270.0   \n",
       "2           1127          905.0           1         380.0   \n",
       "3            266          417.0           1         400.0   \n",
       "4            211          295.0           1         450.0   \n",
       "\n",
       "   Время тепловой ишемии  Агепатика  Возраст донора  Стеатоз  Кровопотеря  \n",
       "0                  180.0      180.0              24        5       6000.0  \n",
       "1                   70.0       70.0              28        5       3000.0  \n",
       "2                   60.0       60.0              28        0       1900.0  \n",
       "3                   50.0       50.0              48       10        500.0  \n",
       "4                   70.0       70.0              40        0        700.0  \n",
       "\n",
       "[5 rows x 22 columns]"
      ]
     },
     "execution_count": 8,
     "metadata": {},
     "output_type": "execute_result"
    }
   ],
   "source": [
    "liver_df.drop([\"№\", \"Прокальцитонин\"], axis=1, inplace=True) # Столько незаполненых данных, что проще удалить\n",
    "liver_df.head(5)"
   ]
  },
  {
   "cell_type": "code",
   "execution_count": 9,
   "id": "b4f39ae3",
   "metadata": {},
   "outputs": [
    {
     "data": {
      "text/html": [
       "<div>\n",
       "<style scoped>\n",
       "    .dataframe tbody tr th:only-of-type {\n",
       "        vertical-align: middle;\n",
       "    }\n",
       "\n",
       "    .dataframe tbody tr th {\n",
       "        vertical-align: top;\n",
       "    }\n",
       "\n",
       "    .dataframe thead th {\n",
       "        text-align: right;\n",
       "    }\n",
       "</style>\n",
       "<table border=\"1\" class=\"dataframe\">\n",
       "  <thead>\n",
       "    <tr style=\"text-align: right;\">\n",
       "      <th></th>\n",
       "      <th>Возраст реципиента</th>\n",
       "      <th>MELD</th>\n",
       "      <th>Альбумин</th>\n",
       "      <th>АСТ (1 сутки)</th>\n",
       "      <th>АСТ (2 суток)</th>\n",
       "      <th>АЛТ (1 сутки)</th>\n",
       "      <th>АЛТ (2 суток)</th>\n",
       "      <th>Общая ишемия</th>\n",
       "      <th>Время тепловой ишемии</th>\n",
       "      <th>Агепатика</th>\n",
       "      <th>Возраст донора</th>\n",
       "      <th>Стеатоз</th>\n",
       "      <th>Кровопотеря</th>\n",
       "    </tr>\n",
       "  </thead>\n",
       "  <tbody>\n",
       "    <tr>\n",
       "      <th>count</th>\n",
       "      <td>459.000000</td>\n",
       "      <td>459.000000</td>\n",
       "      <td>459.000000</td>\n",
       "      <td>459.000000</td>\n",
       "      <td>458.000000</td>\n",
       "      <td>459.000000</td>\n",
       "      <td>458.000000</td>\n",
       "      <td>458.000000</td>\n",
       "      <td>458.000000</td>\n",
       "      <td>458.000000</td>\n",
       "      <td>459.000000</td>\n",
       "      <td>459.000000</td>\n",
       "      <td>458.000000</td>\n",
       "    </tr>\n",
       "    <tr>\n",
       "      <th>mean</th>\n",
       "      <td>48.124183</td>\n",
       "      <td>18.777778</td>\n",
       "      <td>30.313943</td>\n",
       "      <td>1649.130719</td>\n",
       "      <td>951.914847</td>\n",
       "      <td>909.213508</td>\n",
       "      <td>850.460699</td>\n",
       "      <td>495.231441</td>\n",
       "      <td>48.159389</td>\n",
       "      <td>57.919214</td>\n",
       "      <td>43.167756</td>\n",
       "      <td>16.688453</td>\n",
       "      <td>1512.620087</td>\n",
       "    </tr>\n",
       "    <tr>\n",
       "      <th>std</th>\n",
       "      <td>12.393998</td>\n",
       "      <td>8.271239</td>\n",
       "      <td>5.611344</td>\n",
       "      <td>1889.574199</td>\n",
       "      <td>1256.758269</td>\n",
       "      <td>953.158955</td>\n",
       "      <td>1046.902429</td>\n",
       "      <td>106.371027</td>\n",
       "      <td>24.384384</td>\n",
       "      <td>47.007844</td>\n",
       "      <td>11.667153</td>\n",
       "      <td>15.947543</td>\n",
       "      <td>1584.007228</td>\n",
       "    </tr>\n",
       "    <tr>\n",
       "      <th>min</th>\n",
       "      <td>17.000000</td>\n",
       "      <td>5.000000</td>\n",
       "      <td>15.000000</td>\n",
       "      <td>64.000000</td>\n",
       "      <td>20.000000</td>\n",
       "      <td>35.000000</td>\n",
       "      <td>32.000000</td>\n",
       "      <td>250.000000</td>\n",
       "      <td>20.000000</td>\n",
       "      <td>30.000000</td>\n",
       "      <td>13.000000</td>\n",
       "      <td>0.000000</td>\n",
       "      <td>150.000000</td>\n",
       "    </tr>\n",
       "    <tr>\n",
       "      <th>25%</th>\n",
       "      <td>41.000000</td>\n",
       "      <td>13.000000</td>\n",
       "      <td>26.000000</td>\n",
       "      <td>590.000000</td>\n",
       "      <td>276.250000</td>\n",
       "      <td>360.500000</td>\n",
       "      <td>289.000000</td>\n",
       "      <td>420.000000</td>\n",
       "      <td>40.000000</td>\n",
       "      <td>47.250000</td>\n",
       "      <td>35.000000</td>\n",
       "      <td>5.000000</td>\n",
       "      <td>700.000000</td>\n",
       "    </tr>\n",
       "    <tr>\n",
       "      <th>50%</th>\n",
       "      <td>50.000000</td>\n",
       "      <td>17.000000</td>\n",
       "      <td>30.000000</td>\n",
       "      <td>1063.000000</td>\n",
       "      <td>488.000000</td>\n",
       "      <td>641.000000</td>\n",
       "      <td>515.000000</td>\n",
       "      <td>495.000000</td>\n",
       "      <td>45.000000</td>\n",
       "      <td>55.000000</td>\n",
       "      <td>45.000000</td>\n",
       "      <td>10.000000</td>\n",
       "      <td>1000.000000</td>\n",
       "    </tr>\n",
       "    <tr>\n",
       "      <th>75%</th>\n",
       "      <td>57.000000</td>\n",
       "      <td>23.000000</td>\n",
       "      <td>33.000000</td>\n",
       "      <td>1767.500000</td>\n",
       "      <td>1045.750000</td>\n",
       "      <td>1063.000000</td>\n",
       "      <td>902.750000</td>\n",
       "      <td>570.000000</td>\n",
       "      <td>50.000000</td>\n",
       "      <td>60.000000</td>\n",
       "      <td>52.000000</td>\n",
       "      <td>20.000000</td>\n",
       "      <td>1700.000000</td>\n",
       "    </tr>\n",
       "    <tr>\n",
       "      <th>max</th>\n",
       "      <td>77.000000</td>\n",
       "      <td>51.000000</td>\n",
       "      <td>49.400000</td>\n",
       "      <td>15962.000000</td>\n",
       "      <td>8658.000000</td>\n",
       "      <td>8596.000000</td>\n",
       "      <td>9118.000000</td>\n",
       "      <td>900.000000</td>\n",
       "      <td>500.000000</td>\n",
       "      <td>1020.000000</td>\n",
       "      <td>73.000000</td>\n",
       "      <td>95.000000</td>\n",
       "      <td>15000.000000</td>\n",
       "    </tr>\n",
       "  </tbody>\n",
       "</table>\n",
       "</div>"
      ],
      "text/plain": [
       "       Возраст реципиента        MELD    Альбумин  АСТ (1 сутки)  \\\n",
       "count          459.000000  459.000000  459.000000     459.000000   \n",
       "mean            48.124183   18.777778   30.313943    1649.130719   \n",
       "std             12.393998    8.271239    5.611344    1889.574199   \n",
       "min             17.000000    5.000000   15.000000      64.000000   \n",
       "25%             41.000000   13.000000   26.000000     590.000000   \n",
       "50%             50.000000   17.000000   30.000000    1063.000000   \n",
       "75%             57.000000   23.000000   33.000000    1767.500000   \n",
       "max             77.000000   51.000000   49.400000   15962.000000   \n",
       "\n",
       "       АСТ (2 суток)  АЛТ (1 сутки)  АЛТ (2 суток)  Общая ишемия  \\\n",
       "count     458.000000     459.000000     458.000000    458.000000   \n",
       "mean      951.914847     909.213508     850.460699    495.231441   \n",
       "std      1256.758269     953.158955    1046.902429    106.371027   \n",
       "min        20.000000      35.000000      32.000000    250.000000   \n",
       "25%       276.250000     360.500000     289.000000    420.000000   \n",
       "50%       488.000000     641.000000     515.000000    495.000000   \n",
       "75%      1045.750000    1063.000000     902.750000    570.000000   \n",
       "max      8658.000000    8596.000000    9118.000000    900.000000   \n",
       "\n",
       "       Время тепловой ишемии    Агепатика  Возраст донора     Стеатоз  \\\n",
       "count             458.000000   458.000000      459.000000  459.000000   \n",
       "mean               48.159389    57.919214       43.167756   16.688453   \n",
       "std                24.384384    47.007844       11.667153   15.947543   \n",
       "min                20.000000    30.000000       13.000000    0.000000   \n",
       "25%                40.000000    47.250000       35.000000    5.000000   \n",
       "50%                45.000000    55.000000       45.000000   10.000000   \n",
       "75%                50.000000    60.000000       52.000000   20.000000   \n",
       "max               500.000000  1020.000000       73.000000   95.000000   \n",
       "\n",
       "        Кровопотеря  \n",
       "count    458.000000  \n",
       "mean    1512.620087  \n",
       "std     1584.007228  \n",
       "min      150.000000  \n",
       "25%      700.000000  \n",
       "50%     1000.000000  \n",
       "75%     1700.000000  \n",
       "max    15000.000000  "
      ]
     },
     "execution_count": 9,
     "metadata": {},
     "output_type": "execute_result"
    }
   ],
   "source": [
    "liver_df[['Возраст реципиента', 'MELD', 'Альбумин', 'АСТ (1 сутки)', 'АСТ (2 суток)',\n",
    "       'АЛТ (1 сутки)', 'АЛТ (2 суток)','Общая ишемия',\n",
    "       'Время тепловой ишемии', 'Агепатика', 'Возраст донора', 'Стеатоз', 'Кровопотеря']].describe()"
   ]
  },
  {
   "cell_type": "markdown",
   "id": "b49683d0",
   "metadata": {},
   "source": [
    "Проводим визуализацию и удаляем выбросы"
   ]
  },
  {
   "cell_type": "markdown",
   "id": "69f4f4a1",
   "metadata": {},
   "source": [
    "Оценка количественных показателей"
   ]
  },
  {
   "cell_type": "code",
   "execution_count": 10,
   "id": "034162ea",
   "metadata": {},
   "outputs": [
    {
     "data": {
      "text/plain": [
       "array([[<AxesSubplot:title={'center':'Возраст реципиента'}>,\n",
       "        <AxesSubplot:title={'center':'MELD'}>,\n",
       "        <AxesSubplot:title={'center':'Этиология'}>,\n",
       "        <AxesSubplot:title={'center':'Дата Операции'}>,\n",
       "        <AxesSubplot:title={'center':'Фульминант'}>],\n",
       "       [<AxesSubplot:title={'center':'Ургентные'}>,\n",
       "        <AxesSubplot:title={'center':'Ретрансплантация'}>,\n",
       "        <AxesSubplot:title={'center':'Осложнения'}>,\n",
       "        <AxesSubplot:title={'center':'РДТ'}>,\n",
       "        <AxesSubplot:title={'center':'Релапаротомия'}>],\n",
       "       [<AxesSubplot:title={'center':'Альбумин'}>,\n",
       "        <AxesSubplot:title={'center':'АСТ (1 сутки)'}>,\n",
       "        <AxesSubplot:title={'center':'АСТ (2 суток)'}>,\n",
       "        <AxesSubplot:title={'center':'АЛТ (1 сутки)'}>,\n",
       "        <AxesSubplot:title={'center':'АЛТ (2 суток)'}>],\n",
       "       [<AxesSubplot:title={'center':'Консервант'}>,\n",
       "        <AxesSubplot:title={'center':'Общая ишемия'}>,\n",
       "        <AxesSubplot:title={'center':'Время тепловой ишемии'}>,\n",
       "        <AxesSubplot:title={'center':'Агепатика'}>,\n",
       "        <AxesSubplot:title={'center':'Возраст донора'}>],\n",
       "       [<AxesSubplot:title={'center':'Стеатоз'}>,\n",
       "        <AxesSubplot:title={'center':'Кровопотеря'}>, <AxesSubplot:>,\n",
       "        <AxesSubplot:>, <AxesSubplot:>]], dtype=object)"
      ]
     },
     "execution_count": 10,
     "metadata": {},
     "output_type": "execute_result"
    },
    {
     "data": {
      "image/png": "[encoded data removed]",
      "text/plain": [
       "<Figure size 1152x1152 with 25 Axes>"
      ]
     },
     "metadata": {
      "needs_background": "light"
     },
     "output_type": "display_data"
    }
   ],
   "source": [
    "liver_df.hist(bins=50, figsize=(16, 16))"
   ]
  },
  {
   "cell_type": "code",
   "execution_count": 11,
   "id": "ac6b3043",
   "metadata": {},
   "outputs": [
    {
     "data": {
      "image/png": "[encoded data removed]",
      "text/plain": [
       "<Figure size 432x216 with 1 Axes>"
      ]
     },
     "metadata": {
      "needs_background": "light"
     },
     "output_type": "display_data"
    }
   ],
   "source": [
    "plt.figure(figsize=(6, 3))\n",
    "\n",
    "sns.boxplot(liver_df['MELD'], whis=1.5)\n",
    "\n",
    "plt.xlabel('MELD')\n",
    "plt.show()"
   ]
  },
  {
   "cell_type": "code",
   "execution_count": 12,
   "id": "8abf38fb",
   "metadata": {},
   "outputs": [],
   "source": [
    "liver_df = liver_df[liver_df['MELD']<35]"
   ]
  },
  {
   "cell_type": "code",
   "execution_count": 13,
   "id": "304db5e4",
   "metadata": {},
   "outputs": [
    {
     "data": {
      "image/png": "[encoded data removed]",
      "text/plain": [
       "<Figure size 432x216 with 1 Axes>"
      ]
     },
     "metadata": {
      "needs_background": "light"
     },
     "output_type": "display_data"
    }
   ],
   "source": [
    "plt.figure(figsize=(6, 3))\n",
    "\n",
    "sns.boxplot(liver_df['Альбумин'], whis=1.5)\n",
    "\n",
    "plt.xlabel('Альбумин')\n",
    "plt.show()"
   ]
  },
  {
   "cell_type": "code",
   "execution_count": 14,
   "id": "82403253",
   "metadata": {},
   "outputs": [],
   "source": [
    "liver_df = liver_df[liver_df['Альбумин']<45]"
   ]
  },
  {
   "cell_type": "code",
   "execution_count": 15,
   "id": "9cfc146e",
   "metadata": {},
   "outputs": [
    {
     "data": {
      "image/png": "[encoded data removed]",
      "text/plain": [
       "<Figure size 432x216 with 1 Axes>"
      ]
     },
     "metadata": {
      "needs_background": "light"
     },
     "output_type": "display_data"
    }
   ],
   "source": [
    "plt.figure(figsize=(6, 3))\n",
    "\n",
    "sns.boxplot(liver_df['Кровопотеря'], whis=1.5)\n",
    "\n",
    "plt.xlabel('Кровопотеря')\n",
    "plt.show()"
   ]
  },
  {
   "cell_type": "code",
   "execution_count": 16,
   "id": "d933a453",
   "metadata": {},
   "outputs": [],
   "source": [
    "liver_df = liver_df[liver_df['Кровопотеря']<5000]"
   ]
  },
  {
   "cell_type": "code",
   "execution_count": 17,
   "id": "e98d7a05",
   "metadata": {},
   "outputs": [
    {
     "data": {
      "image/png": "[encoded data removed]",
      "text/plain": [
       "<Figure size 432x216 with 1 Axes>"
      ]
     },
     "metadata": {
      "needs_background": "light"
     },
     "output_type": "display_data"
    }
   ],
   "source": [
    "plt.figure(figsize=(6, 3))\n",
    "\n",
    "sns.boxplot(liver_df['Агепатика'], whis=1.5)\n",
    "\n",
    "plt.xlabel('Агепатика')\n",
    "plt.show()"
   ]
  },
  {
   "cell_type": "code",
   "execution_count": 18,
   "id": "5fe0ca18",
   "metadata": {},
   "outputs": [],
   "source": [
    "liver_df = liver_df[liver_df['Агепатика']<100]"
   ]
  },
  {
   "cell_type": "code",
   "execution_count": 19,
   "id": "c9bced40",
   "metadata": {},
   "outputs": [
    {
     "data": {
      "image/png": "[encoded data removed]",
      "text/plain": [
       "<Figure size 432x216 with 1 Axes>"
      ]
     },
     "metadata": {
      "needs_background": "light"
     },
     "output_type": "display_data"
    }
   ],
   "source": [
    "plt.figure(figsize=(6, 3))\n",
    "\n",
    "sns.boxplot(liver_df['Время тепловой ишемии'], whis=1.5)\n",
    "\n",
    "plt.xlabel('Время тепловой ишемии')\n",
    "plt.show()"
   ]
  },
  {
   "cell_type": "code",
   "execution_count": 20,
   "id": "0ddf0860",
   "metadata": {},
   "outputs": [],
   "source": [
    "liver_df = liver_df[liver_df['Время тепловой ишемии']<150]"
   ]
  },
  {
   "cell_type": "code",
   "execution_count": 21,
   "id": "f7dfcc72",
   "metadata": {},
   "outputs": [
    {
     "data": {
      "image/png": "[encoded data removed]",
      "text/plain": [
       "<Figure size 432x216 with 1 Axes>"
      ]
     },
     "metadata": {
      "needs_background": "light"
     },
     "output_type": "display_data"
    }
   ],
   "source": [
    "plt.figure(figsize=(6, 3))\n",
    "\n",
    "sns.boxplot(liver_df['АЛТ (2 суток)'], whis=1.5)\n",
    "\n",
    "plt.xlabel('АЛТ (2 суток)')\n",
    "plt.show()"
   ]
  },
  {
   "cell_type": "code",
   "execution_count": 22,
   "id": "02dfbb71",
   "metadata": {},
   "outputs": [],
   "source": [
    "liver_df = liver_df[liver_df['АЛТ (2 суток)']<6000]"
   ]
  },
  {
   "cell_type": "code",
   "execution_count": 23,
   "id": "9e14588e",
   "metadata": {},
   "outputs": [
    {
     "data": {
      "image/png": "[encoded data removed]",
      "text/plain": [
       "<Figure size 432x216 with 1 Axes>"
      ]
     },
     "metadata": {
      "needs_background": "light"
     },
     "output_type": "display_data"
    }
   ],
   "source": [
    "plt.figure(figsize=(6, 3))\n",
    "\n",
    "sns.boxplot(liver_df['АЛТ (1 сутки)'], whis=1.5)\n",
    "\n",
    "plt.xlabel('АЛТ (1 сутки)')\n",
    "plt.show()"
   ]
  },
  {
   "cell_type": "code",
   "execution_count": 24,
   "id": "9234028e",
   "metadata": {},
   "outputs": [],
   "source": [
    "liver_df = liver_df[liver_df['АЛТ (1 сутки)']<4000]"
   ]
  },
  {
   "cell_type": "code",
   "execution_count": 25,
   "id": "8d8724a1",
   "metadata": {},
   "outputs": [
    {
     "data": {
      "image/png": "[encoded data removed]",
      "text/plain": [
       "<Figure size 432x216 with 1 Axes>"
      ]
     },
     "metadata": {
      "needs_background": "light"
     },
     "output_type": "display_data"
    }
   ],
   "source": [
    "plt.figure(figsize=(6, 3))\n",
    "\n",
    "sns.boxplot(liver_df['АСТ (2 суток)'], whis=1.5)\n",
    "\n",
    "plt.xlabel('АСТ (2 суток)')\n",
    "plt.show()"
   ]
  },
  {
   "cell_type": "code",
   "execution_count": 26,
   "id": "698eceb4",
   "metadata": {},
   "outputs": [],
   "source": [
    "liver_df = liver_df[liver_df['АСТ (2 суток)']<5000]"
   ]
  },
  {
   "cell_type": "code",
   "execution_count": 27,
   "id": "f011d78c",
   "metadata": {},
   "outputs": [
    {
     "data": {
      "image/png": "[encoded data removed]",
      "text/plain": [
       "<Figure size 432x216 with 1 Axes>"
      ]
     },
     "metadata": {
      "needs_background": "light"
     },
     "output_type": "display_data"
    }
   ],
   "source": [
    "plt.figure(figsize=(6, 3))\n",
    "\n",
    "sns.boxplot(liver_df['АСТ (1 сутки)'], whis=1.5)\n",
    "\n",
    "plt.xlabel('АСТ (1 сутки)')\n",
    "plt.show()"
   ]
  },
  {
   "cell_type": "code",
   "execution_count": 28,
   "id": "8c83395a",
   "metadata": {},
   "outputs": [],
   "source": [
    "liver_df = liver_df[liver_df['АСТ (1 сутки)']<6000]"
   ]
  },
  {
   "cell_type": "code",
   "execution_count": 29,
   "id": "6b31967c",
   "metadata": {},
   "outputs": [
    {
     "data": {
      "image/png": "[encoded data removed]",
      "text/plain": [
       "<Figure size 432x216 with 1 Axes>"
      ]
     },
     "metadata": {
      "needs_background": "light"
     },
     "output_type": "display_data"
    }
   ],
   "source": [
    "plt.figure(figsize=(6, 3))\n",
    "\n",
    "sns.boxplot(liver_df['Стеатоз'], whis=1.5)\n",
    "\n",
    "plt.xlabel('Стеатоз')\n",
    "plt.show()"
   ]
  },
  {
   "cell_type": "markdown",
   "id": "a628f9d1",
   "metadata": {},
   "source": [
    "Результат после коррекции выбросов, все не убирал, так как некоторые цифры очень важны"
   ]
  },
  {
   "cell_type": "code",
   "execution_count": 30,
   "id": "1fdf82ef",
   "metadata": {},
   "outputs": [
    {
     "data": {
      "text/html": [
       "<div>\n",
       "<style scoped>\n",
       "    .dataframe tbody tr th:only-of-type {\n",
       "        vertical-align: middle;\n",
       "    }\n",
       "\n",
       "    .dataframe tbody tr th {\n",
       "        vertical-align: top;\n",
       "    }\n",
       "\n",
       "    .dataframe thead th {\n",
       "        text-align: right;\n",
       "    }\n",
       "</style>\n",
       "<table border=\"1\" class=\"dataframe\">\n",
       "  <thead>\n",
       "    <tr style=\"text-align: right;\">\n",
       "      <th></th>\n",
       "      <th>Возраст реципиента</th>\n",
       "      <th>MELD</th>\n",
       "      <th>Альбумин</th>\n",
       "      <th>АСТ (1 сутки)</th>\n",
       "      <th>АСТ (2 суток)</th>\n",
       "      <th>АЛТ (1 сутки)</th>\n",
       "      <th>АЛТ (2 суток)</th>\n",
       "      <th>Общая ишемия</th>\n",
       "      <th>Время тепловой ишемии</th>\n",
       "      <th>Агепатика</th>\n",
       "      <th>Возраст донора</th>\n",
       "      <th>Стеатоз</th>\n",
       "      <th>Кровопотеря</th>\n",
       "    </tr>\n",
       "  </thead>\n",
       "  <tbody>\n",
       "    <tr>\n",
       "      <th>count</th>\n",
       "      <td>383.000000</td>\n",
       "      <td>383.000000</td>\n",
       "      <td>383.000000</td>\n",
       "      <td>383.000000</td>\n",
       "      <td>383.000000</td>\n",
       "      <td>383.000000</td>\n",
       "      <td>383.000000</td>\n",
       "      <td>383.000000</td>\n",
       "      <td>383.000000</td>\n",
       "      <td>383.000000</td>\n",
       "      <td>383.000000</td>\n",
       "      <td>383.000000</td>\n",
       "      <td>383.000000</td>\n",
       "    </tr>\n",
       "    <tr>\n",
       "      <th>mean</th>\n",
       "      <td>48.694517</td>\n",
       "      <td>17.467363</td>\n",
       "      <td>30.065274</td>\n",
       "      <td>1305.550914</td>\n",
       "      <td>735.754569</td>\n",
       "      <td>763.415144</td>\n",
       "      <td>699.968668</td>\n",
       "      <td>490.052219</td>\n",
       "      <td>46.355091</td>\n",
       "      <td>54.866841</td>\n",
       "      <td>42.819843</td>\n",
       "      <td>15.686684</td>\n",
       "      <td>1234.934726</td>\n",
       "    </tr>\n",
       "    <tr>\n",
       "      <th>std</th>\n",
       "      <td>12.041949</td>\n",
       "      <td>6.305765</td>\n",
       "      <td>5.190262</td>\n",
       "      <td>1063.798409</td>\n",
       "      <td>775.138540</td>\n",
       "      <td>594.803894</td>\n",
       "      <td>684.347126</td>\n",
       "      <td>104.304189</td>\n",
       "      <td>9.947731</td>\n",
       "      <td>10.732371</td>\n",
       "      <td>11.621492</td>\n",
       "      <td>14.853068</td>\n",
       "      <td>828.394292</td>\n",
       "    </tr>\n",
       "    <tr>\n",
       "      <th>min</th>\n",
       "      <td>17.000000</td>\n",
       "      <td>5.000000</td>\n",
       "      <td>18.000000</td>\n",
       "      <td>99.000000</td>\n",
       "      <td>55.000000</td>\n",
       "      <td>52.000000</td>\n",
       "      <td>35.000000</td>\n",
       "      <td>250.000000</td>\n",
       "      <td>21.000000</td>\n",
       "      <td>30.000000</td>\n",
       "      <td>13.000000</td>\n",
       "      <td>0.000000</td>\n",
       "      <td>200.000000</td>\n",
       "    </tr>\n",
       "    <tr>\n",
       "      <th>25%</th>\n",
       "      <td>42.000000</td>\n",
       "      <td>13.000000</td>\n",
       "      <td>26.000000</td>\n",
       "      <td>579.500000</td>\n",
       "      <td>275.500000</td>\n",
       "      <td>349.500000</td>\n",
       "      <td>287.500000</td>\n",
       "      <td>420.000000</td>\n",
       "      <td>40.000000</td>\n",
       "      <td>47.000000</td>\n",
       "      <td>35.000000</td>\n",
       "      <td>5.000000</td>\n",
       "      <td>700.000000</td>\n",
       "    </tr>\n",
       "    <tr>\n",
       "      <th>50%</th>\n",
       "      <td>51.000000</td>\n",
       "      <td>17.000000</td>\n",
       "      <td>30.000000</td>\n",
       "      <td>1000.000000</td>\n",
       "      <td>461.000000</td>\n",
       "      <td>593.000000</td>\n",
       "      <td>481.000000</td>\n",
       "      <td>490.000000</td>\n",
       "      <td>45.000000</td>\n",
       "      <td>55.000000</td>\n",
       "      <td>45.000000</td>\n",
       "      <td>10.000000</td>\n",
       "      <td>1000.000000</td>\n",
       "    </tr>\n",
       "    <tr>\n",
       "      <th>75%</th>\n",
       "      <td>57.000000</td>\n",
       "      <td>21.000000</td>\n",
       "      <td>33.000000</td>\n",
       "      <td>1591.500000</td>\n",
       "      <td>875.000000</td>\n",
       "      <td>963.500000</td>\n",
       "      <td>806.000000</td>\n",
       "      <td>555.000000</td>\n",
       "      <td>50.000000</td>\n",
       "      <td>60.000000</td>\n",
       "      <td>52.000000</td>\n",
       "      <td>20.000000</td>\n",
       "      <td>1500.000000</td>\n",
       "    </tr>\n",
       "    <tr>\n",
       "      <th>max</th>\n",
       "      <td>77.000000</td>\n",
       "      <td>34.000000</td>\n",
       "      <td>44.000000</td>\n",
       "      <td>5580.000000</td>\n",
       "      <td>4441.000000</td>\n",
       "      <td>3472.000000</td>\n",
       "      <td>4792.000000</td>\n",
       "      <td>840.000000</td>\n",
       "      <td>110.000000</td>\n",
       "      <td>90.000000</td>\n",
       "      <td>73.000000</td>\n",
       "      <td>90.000000</td>\n",
       "      <td>4500.000000</td>\n",
       "    </tr>\n",
       "  </tbody>\n",
       "</table>\n",
       "</div>"
      ],
      "text/plain": [
       "       Возраст реципиента        MELD    Альбумин  АСТ (1 сутки)  \\\n",
       "count          383.000000  383.000000  383.000000     383.000000   \n",
       "mean            48.694517   17.467363   30.065274    1305.550914   \n",
       "std             12.041949    6.305765    5.190262    1063.798409   \n",
       "min             17.000000    5.000000   18.000000      99.000000   \n",
       "25%             42.000000   13.000000   26.000000     579.500000   \n",
       "50%             51.000000   17.000000   30.000000    1000.000000   \n",
       "75%             57.000000   21.000000   33.000000    1591.500000   \n",
       "max             77.000000   34.000000   44.000000    5580.000000   \n",
       "\n",
       "       АСТ (2 суток)  АЛТ (1 сутки)  АЛТ (2 суток)  Общая ишемия  \\\n",
       "count     383.000000     383.000000     383.000000    383.000000   \n",
       "mean      735.754569     763.415144     699.968668    490.052219   \n",
       "std       775.138540     594.803894     684.347126    104.304189   \n",
       "min        55.000000      52.000000      35.000000    250.000000   \n",
       "25%       275.500000     349.500000     287.500000    420.000000   \n",
       "50%       461.000000     593.000000     481.000000    490.000000   \n",
       "75%       875.000000     963.500000     806.000000    555.000000   \n",
       "max      4441.000000    3472.000000    4792.000000    840.000000   \n",
       "\n",
       "       Время тепловой ишемии   Агепатика  Возраст донора     Стеатоз  \\\n",
       "count             383.000000  383.000000      383.000000  383.000000   \n",
       "mean               46.355091   54.866841       42.819843   15.686684   \n",
       "std                 9.947731   10.732371       11.621492   14.853068   \n",
       "min                21.000000   30.000000       13.000000    0.000000   \n",
       "25%                40.000000   47.000000       35.000000    5.000000   \n",
       "50%                45.000000   55.000000       45.000000   10.000000   \n",
       "75%                50.000000   60.000000       52.000000   20.000000   \n",
       "max               110.000000   90.000000       73.000000   90.000000   \n",
       "\n",
       "       Кровопотеря  \n",
       "count   383.000000  \n",
       "mean   1234.934726  \n",
       "std     828.394292  \n",
       "min     200.000000  \n",
       "25%     700.000000  \n",
       "50%    1000.000000  \n",
       "75%    1500.000000  \n",
       "max    4500.000000  "
      ]
     },
     "execution_count": 30,
     "metadata": {},
     "output_type": "execute_result"
    }
   ],
   "source": [
    "liver_df[['Возраст реципиента', 'MELD', 'Альбумин', 'АСТ (1 сутки)', 'АСТ (2 суток)',\n",
    "       'АЛТ (1 сутки)', 'АЛТ (2 суток)','Общая ишемия',\n",
    "       'Время тепловой ишемии', 'Агепатика', 'Возраст донора', 'Стеатоз', 'Кровопотеря']].describe()"
   ]
  },
  {
   "cell_type": "markdown",
   "id": "0b104b1d",
   "metadata": {},
   "source": [
    "Категориальные признаки"
   ]
  },
  {
   "cell_type": "code",
   "execution_count": 31,
   "id": "e6e992eb",
   "metadata": {},
   "outputs": [
    {
     "data": {
      "image/png": "[encoded data removed]",
      "text/plain": [
       "<Figure size 864x576 with 1 Axes>"
      ]
     },
     "metadata": {
      "needs_background": "light"
     },
     "output_type": "display_data"
    }
   ],
   "source": [
    "etiology = liver_df['Этиология'].value_counts()\n",
    "plt.figure(figsize = (12, 8))\n",
    "plt.title('Этиология')\n",
    "sns.barplot(etiology.index, etiology.values)\n",
    "plt.show()"
   ]
  },
  {
   "cell_type": "code",
   "execution_count": 32,
   "id": "ec2d25d6",
   "metadata": {},
   "outputs": [],
   "source": [
    "liver_df.loc[liver_df['Этиология'] == 111] = 11 #устранил опечатку"
   ]
  },
  {
   "cell_type": "code",
   "execution_count": 33,
   "id": "63e57386",
   "metadata": {},
   "outputs": [
    {
     "data": {
      "image/png": "[encoded data removed]",
      "text/plain": [
       "<Figure size 864x576 with 1 Axes>"
      ]
     },
     "metadata": {
      "needs_background": "light"
     },
     "output_type": "display_data"
    }
   ],
   "source": [
    "complications = liver_df['Осложнения'].value_counts()\n",
    "plt.figure(figsize = (12, 8))\n",
    "plt.title('Осложнения')\n",
    "sns.barplot(complications.index, complications.values)\n",
    "plt.show()"
   ]
  },
  {
   "cell_type": "code",
   "execution_count": 34,
   "id": "daebca09",
   "metadata": {},
   "outputs": [],
   "source": [
    "liver_df.loc[liver_df['Осложнения'] == 11] = 1 #устранил опечатку"
   ]
  },
  {
   "cell_type": "code",
   "execution_count": 35,
   "id": "af1876a6",
   "metadata": {},
   "outputs": [
    {
     "data": {
      "image/png": "[encoded data removed]",
      "text/plain": [
       "<Figure size 864x576 with 1 Axes>"
      ]
     },
     "metadata": {
      "needs_background": "light"
     },
     "output_type": "display_data"
    }
   ],
   "source": [
    "cons = liver_df['Консервант'].value_counts()\n",
    "plt.figure(figsize = (12, 8))\n",
    "plt.title('Консервант')\n",
    "sns.barplot(cons.index, cons.values)\n",
    "plt.show()"
   ]
  },
  {
   "cell_type": "markdown",
   "id": "28c93c52",
   "metadata": {},
   "source": [
    "Поиск фичей"
   ]
  },
  {
   "cell_type": "code",
   "execution_count": 36,
   "id": "82404922",
   "metadata": {},
   "outputs": [
    {
     "data": {
      "image/png": "[encoded data removed]",
      "text/plain": [
       "<Figure size 432x288 with 1 Axes>"
      ]
     },
     "metadata": {
      "needs_background": "light"
     },
     "output_type": "display_data"
    },
    {
     "name": "stdout",
     "output_type": "stream",
     "text": [
      "РДТ не развилось(0) 25.848563968668408\n",
      "РДТ развилось(1) 74.1514360313316\n"
     ]
    }
   ],
   "source": [
    "sns.countplot(x = liver_df['РДТ'], palette='hls')\n",
    "plt.show()\n",
    "\n",
    "RDT_no = len(liver_df[liver_df['РДТ']==0])\n",
    "RDT = len(liver_df[liver_df['РДТ']==1])\n",
    "RDT_no_sub = RDT_no/(RDT_no+RDT)\n",
    "print(\"РДТ не развилось(0)\", RDT_no_sub*100)\n",
    "RDT_of_sub = RDT/(RDT_no+RDT)\n",
    "print(\"РДТ развилось(1)\", RDT_of_sub*100)"
   ]
  },
  {
   "cell_type": "code",
   "execution_count": 37,
   "id": "167e33ee",
   "metadata": {},
   "outputs": [
    {
     "data": {
      "image/png": "[encoded data removed]",
      "text/plain": [
       "<Figure size 1080x720 with 2 Axes>"
      ]
     },
     "metadata": {
      "needs_background": "light"
     },
     "output_type": "display_data"
    }
   ],
   "source": [
    "plt.figure(figsize = (15,10))\n",
    "\n",
    "sns.set(font_scale=1.4)\n",
    "\n",
    "corr_matrix = liver_df.corr()\n",
    "corr_matrix = np.round(corr_matrix, 2)\n",
    "corr_matrix[np.abs(corr_matrix) < 0.3] = 0\n",
    "\n",
    "sns.heatmap(corr_matrix, annot=True, linewidths=.5, cmap='coolwarm')\n",
    "\n",
    "plt.title('Correlation matrix')\n",
    "plt.show()"
   ]
  },
  {
   "cell_type": "code",
   "execution_count": 38,
   "id": "bd197a19",
   "metadata": {},
   "outputs": [
    {
     "data": {
      "image/png": "[encoded data removed]",
      "text/plain": [
       "<Figure size 576x576 with 3 Axes>"
      ]
     },
     "metadata": {},
     "output_type": "display_data"
    }
   ],
   "source": [
    "grid = sns.jointplot(liver_df['Кровопотеря'], liver_df['РДТ'], kind='reg')\n",
    "grid.fig.set_figwidth(8)\n",
    "grid.fig.set_figheight(8)\n",
    "plt.show()"
   ]
  },
  {
   "cell_type": "code",
   "execution_count": 39,
   "id": "5edc583d",
   "metadata": {},
   "outputs": [
    {
     "data": {
      "image/png": "[encoded data removed]",
      "text/plain": [
       "<Figure size 576x576 with 3 Axes>"
      ]
     },
     "metadata": {},
     "output_type": "display_data"
    }
   ],
   "source": [
    "grid = sns.jointplot(liver_df['Стеатоз'], liver_df['РДТ'], kind='reg')\n",
    "grid.fig.set_figwidth(8)\n",
    "grid.fig.set_figheight(8)\n",
    "plt.show()"
   ]
  },
  {
   "cell_type": "code",
   "execution_count": 42,
   "id": "542d1fba",
   "metadata": {},
   "outputs": [
    {
     "data": {
      "text/plain": [
       "PointbiserialrResult(correlation=-0.10532835444703371, pvalue=0.039368624529448996)"
      ]
     },
     "execution_count": 42,
     "metadata": {},
     "output_type": "execute_result"
    }
   ],
   "source": [
    "pointbiserialr(liver_df['Агепатика'], liver_df['РДТ'])"
   ]
  },
  {
   "cell_type": "code",
   "execution_count": 43,
   "id": "59d13fd9",
   "metadata": {},
   "outputs": [
    {
     "data": {
      "text/plain": [
       "PointbiserialrResult(correlation=-0.08376028563614304, pvalue=0.10168472510803721)"
      ]
     },
     "execution_count": 43,
     "metadata": {},
     "output_type": "execute_result"
    }
   ],
   "source": [
    "pointbiserialr(liver_df['Общая ишемия'], liver_df['РДТ'])"
   ]
  },
  {
   "cell_type": "code",
   "execution_count": 44,
   "id": "288f9ff3",
   "metadata": {},
   "outputs": [
    {
     "data": {
      "text/plain": [
       "PointbiserialrResult(correlation=-0.09160426093989953, pvalue=0.07335148648077594)"
      ]
     },
     "execution_count": 44,
     "metadata": {},
     "output_type": "execute_result"
    }
   ],
   "source": [
    "pointbiserialr(liver_df['Кровопотеря'], liver_df['РДТ'])"
   ]
  },
  {
   "cell_type": "code",
   "execution_count": 45,
   "id": "601019cc",
   "metadata": {},
   "outputs": [
    {
     "data": {
      "text/plain": [
       "PointbiserialrResult(correlation=-0.0008459038032861891, pvalue=0.9868350586773439)"
      ]
     },
     "execution_count": 45,
     "metadata": {},
     "output_type": "execute_result"
    }
   ],
   "source": [
    "pointbiserialr(liver_df['MELD'], liver_df['РДТ'])"
   ]
  },
  {
   "cell_type": "code",
   "execution_count": 46,
   "id": "f552f170",
   "metadata": {},
   "outputs": [
    {
     "data": {
      "text/plain": [
       "PointbiserialrResult(correlation=-0.03771301097699269, pvalue=0.4617869482494309)"
      ]
     },
     "execution_count": 46,
     "metadata": {},
     "output_type": "execute_result"
    }
   ],
   "source": [
    "pointbiserialr(liver_df['Возраст донора'], liver_df['РДТ'])"
   ]
  },
  {
   "cell_type": "code",
   "execution_count": 47,
   "id": "c4d41856",
   "metadata": {},
   "outputs": [
    {
     "data": {
      "text/html": [
       "<div>\n",
       "<style scoped>\n",
       "    .dataframe tbody tr th:only-of-type {\n",
       "        vertical-align: middle;\n",
       "    }\n",
       "\n",
       "    .dataframe tbody tr th {\n",
       "        vertical-align: top;\n",
       "    }\n",
       "\n",
       "    .dataframe thead th {\n",
       "        text-align: right;\n",
       "    }\n",
       "</style>\n",
       "<table border=\"1\" class=\"dataframe\">\n",
       "  <thead>\n",
       "    <tr style=\"text-align: right;\">\n",
       "      <th>РДТ</th>\n",
       "      <th>0</th>\n",
       "      <th>1</th>\n",
       "    </tr>\n",
       "    <tr>\n",
       "      <th>Фульминант</th>\n",
       "      <th></th>\n",
       "      <th></th>\n",
       "    </tr>\n",
       "  </thead>\n",
       "  <tbody>\n",
       "    <tr>\n",
       "      <th>0</th>\n",
       "      <td>98</td>\n",
       "      <td>281</td>\n",
       "    </tr>\n",
       "    <tr>\n",
       "      <th>1</th>\n",
       "      <td>1</td>\n",
       "      <td>3</td>\n",
       "    </tr>\n",
       "  </tbody>\n",
       "</table>\n",
       "</div>"
      ],
      "text/plain": [
       "РДТ          0    1\n",
       "Фульминант         \n",
       "0           98  281\n",
       "1            1    3"
      ]
     },
     "execution_count": 47,
     "metadata": {},
     "output_type": "execute_result"
    }
   ],
   "source": [
    "pd.crosstab(liver_df['Фульминант'], liver_df['РДТ'])"
   ]
  },
  {
   "cell_type": "markdown",
   "id": "d4f8809f",
   "metadata": {},
   "source": [
    "Сохраняем датасет"
   ]
  },
  {
   "cell_type": "code",
   "execution_count": 146,
   "id": "475d5458",
   "metadata": {},
   "outputs": [],
   "source": [
    "liver_df.to_csv('C:\\\\Users\\\\Вася\\\\Desktop\\\\Ординатура\\\\База печень.csv', index=False, encoding='utf-8', sep=';')"
   ]
  },
  {
   "cell_type": "markdown",
   "id": "2a5327b3",
   "metadata": {},
   "source": [
    "# Разбиение на train / test"
   ]
  },
  {
   "cell_type": "markdown",
   "id": "8be4da6a",
   "metadata": {},
   "source": [
    "Группируем признаки, необходимые для модели"
   ]
  },
  {
   "cell_type": "code",
   "execution_count": 48,
   "id": "f3998515",
   "metadata": {},
   "outputs": [
    {
     "data": {
      "text/plain": [
       "['Возраст реципиента',\n",
       " 'MELD',\n",
       " 'Этиология',\n",
       " 'Дата Операции',\n",
       " 'Фульминант',\n",
       " 'Ургентные',\n",
       " 'Ретрансплантация',\n",
       " 'Осложнения',\n",
       " 'РДТ',\n",
       " 'Релапаротомия',\n",
       " 'Альбумин',\n",
       " 'АСТ (1 сутки)',\n",
       " 'АСТ (2 суток)',\n",
       " 'АЛТ (1 сутки)',\n",
       " 'АЛТ (2 суток)',\n",
       " 'Консервант',\n",
       " 'Общая ишемия',\n",
       " 'Время тепловой ишемии',\n",
       " 'Агепатика',\n",
       " 'Возраст донора',\n",
       " 'Стеатоз',\n",
       " 'Кровопотеря']"
      ]
     },
     "execution_count": 48,
     "metadata": {},
     "output_type": "execute_result"
    }
   ],
   "source": [
    "liver_df.columns.tolist()"
   ]
  },
  {
   "cell_type": "code",
   "execution_count": 49,
   "id": "dcd4df62",
   "metadata": {},
   "outputs": [],
   "source": [
    "signs_name = ['Возраст реципиента', 'MELD', 'Этиология','Фульминант', 'Ургентные', 'Ретрансплантация', 'Осложнения',\n",
    "              'Релапаротомия', 'Альбумин', 'АСТ (1 сутки)', 'АСТ (2 суток)',\n",
    "              'АЛТ (1 сутки)', 'АЛТ (2 суток)', 'Консервант',\n",
    "              'Общая ишемия', 'Время тепловой ишемии', 'Агепатика', \n",
    "              'Возраст донора','Стеатоз', 'Кровопотеря']\n",
    "\n",
    "target_name = 'РДТ'"
   ]
  },
  {
   "cell_type": "code",
   "execution_count": 50,
   "id": "1e1cb905",
   "metadata": {},
   "outputs": [
    {
     "data": {
      "text/html": [
       "<div>\n",
       "<style scoped>\n",
       "    .dataframe tbody tr th:only-of-type {\n",
       "        vertical-align: middle;\n",
       "    }\n",
       "\n",
       "    .dataframe tbody tr th {\n",
       "        vertical-align: top;\n",
       "    }\n",
       "\n",
       "    .dataframe thead th {\n",
       "        text-align: right;\n",
       "    }\n",
       "</style>\n",
       "<table border=\"1\" class=\"dataframe\">\n",
       "  <thead>\n",
       "    <tr style=\"text-align: right;\">\n",
       "      <th></th>\n",
       "      <th>Возраст реципиента</th>\n",
       "      <th>MELD</th>\n",
       "      <th>Этиология</th>\n",
       "      <th>Фульминант</th>\n",
       "      <th>Ургентные</th>\n",
       "      <th>Ретрансплантация</th>\n",
       "      <th>Осложнения</th>\n",
       "      <th>Релапаротомия</th>\n",
       "      <th>Альбумин</th>\n",
       "      <th>АСТ (1 сутки)</th>\n",
       "      <th>...</th>\n",
       "      <th>АЛТ (1 сутки)</th>\n",
       "      <th>АЛТ (2 суток)</th>\n",
       "      <th>Консервант</th>\n",
       "      <th>Общая ишемия</th>\n",
       "      <th>Время тепловой ишемии</th>\n",
       "      <th>Агепатика</th>\n",
       "      <th>Возраст донора</th>\n",
       "      <th>Стеатоз</th>\n",
       "      <th>Кровопотеря</th>\n",
       "      <th>РДТ</th>\n",
       "    </tr>\n",
       "  </thead>\n",
       "  <tbody>\n",
       "    <tr>\n",
       "      <th>3</th>\n",
       "      <td>34</td>\n",
       "      <td>14</td>\n",
       "      <td>14</td>\n",
       "      <td>0</td>\n",
       "      <td>0</td>\n",
       "      <td>0</td>\n",
       "      <td>0</td>\n",
       "      <td>1</td>\n",
       "      <td>36.0</td>\n",
       "      <td>247</td>\n",
       "      <td>...</td>\n",
       "      <td>266</td>\n",
       "      <td>417.0</td>\n",
       "      <td>1</td>\n",
       "      <td>400.0</td>\n",
       "      <td>50.0</td>\n",
       "      <td>50.0</td>\n",
       "      <td>48</td>\n",
       "      <td>10</td>\n",
       "      <td>500.0</td>\n",
       "      <td>1</td>\n",
       "    </tr>\n",
       "    <tr>\n",
       "      <th>4</th>\n",
       "      <td>25</td>\n",
       "      <td>15</td>\n",
       "      <td>1</td>\n",
       "      <td>0</td>\n",
       "      <td>0</td>\n",
       "      <td>0</td>\n",
       "      <td>0</td>\n",
       "      <td>1</td>\n",
       "      <td>35.0</td>\n",
       "      <td>445</td>\n",
       "      <td>...</td>\n",
       "      <td>211</td>\n",
       "      <td>295.0</td>\n",
       "      <td>1</td>\n",
       "      <td>450.0</td>\n",
       "      <td>70.0</td>\n",
       "      <td>70.0</td>\n",
       "      <td>40</td>\n",
       "      <td>0</td>\n",
       "      <td>700.0</td>\n",
       "      <td>1</td>\n",
       "    </tr>\n",
       "    <tr>\n",
       "      <th>6</th>\n",
       "      <td>63</td>\n",
       "      <td>25</td>\n",
       "      <td>18</td>\n",
       "      <td>0</td>\n",
       "      <td>0</td>\n",
       "      <td>1</td>\n",
       "      <td>3</td>\n",
       "      <td>1</td>\n",
       "      <td>34.0</td>\n",
       "      <td>2337</td>\n",
       "      <td>...</td>\n",
       "      <td>1609</td>\n",
       "      <td>1559.0</td>\n",
       "      <td>1</td>\n",
       "      <td>480.0</td>\n",
       "      <td>65.0</td>\n",
       "      <td>65.0</td>\n",
       "      <td>50</td>\n",
       "      <td>20</td>\n",
       "      <td>1200.0</td>\n",
       "      <td>0</td>\n",
       "    </tr>\n",
       "    <tr>\n",
       "      <th>7</th>\n",
       "      <td>26</td>\n",
       "      <td>16</td>\n",
       "      <td>14</td>\n",
       "      <td>0</td>\n",
       "      <td>0</td>\n",
       "      <td>0</td>\n",
       "      <td>0</td>\n",
       "      <td>1</td>\n",
       "      <td>30.0</td>\n",
       "      <td>351</td>\n",
       "      <td>...</td>\n",
       "      <td>489</td>\n",
       "      <td>327.0</td>\n",
       "      <td>1</td>\n",
       "      <td>320.0</td>\n",
       "      <td>55.0</td>\n",
       "      <td>50.0</td>\n",
       "      <td>28</td>\n",
       "      <td>0</td>\n",
       "      <td>1400.0</td>\n",
       "      <td>1</td>\n",
       "    </tr>\n",
       "    <tr>\n",
       "      <th>8</th>\n",
       "      <td>45</td>\n",
       "      <td>21</td>\n",
       "      <td>4</td>\n",
       "      <td>0</td>\n",
       "      <td>0</td>\n",
       "      <td>0</td>\n",
       "      <td>1</td>\n",
       "      <td>1</td>\n",
       "      <td>26.0</td>\n",
       "      <td>264</td>\n",
       "      <td>...</td>\n",
       "      <td>322</td>\n",
       "      <td>357.0</td>\n",
       "      <td>1</td>\n",
       "      <td>495.0</td>\n",
       "      <td>55.0</td>\n",
       "      <td>55.0</td>\n",
       "      <td>19</td>\n",
       "      <td>0</td>\n",
       "      <td>1600.0</td>\n",
       "      <td>1</td>\n",
       "    </tr>\n",
       "  </tbody>\n",
       "</table>\n",
       "<p>5 rows × 21 columns</p>\n",
       "</div>"
      ],
      "text/plain": [
       "   Возраст реципиента  MELD  Этиология  Фульминант  Ургентные  \\\n",
       "3                  34    14         14           0          0   \n",
       "4                  25    15          1           0          0   \n",
       "6                  63    25         18           0          0   \n",
       "7                  26    16         14           0          0   \n",
       "8                  45    21          4           0          0   \n",
       "\n",
       "   Ретрансплантация  Осложнения  Релапаротомия  Альбумин  АСТ (1 сутки)  ...  \\\n",
       "3                 0           0              1      36.0            247  ...   \n",
       "4                 0           0              1      35.0            445  ...   \n",
       "6                 1           3              1      34.0           2337  ...   \n",
       "7                 0           0              1      30.0            351  ...   \n",
       "8                 0           1              1      26.0            264  ...   \n",
       "\n",
       "   АЛТ (1 сутки)  АЛТ (2 суток)  Консервант  Общая ишемия  \\\n",
       "3            266          417.0           1         400.0   \n",
       "4            211          295.0           1         450.0   \n",
       "6           1609         1559.0           1         480.0   \n",
       "7            489          327.0           1         320.0   \n",
       "8            322          357.0           1         495.0   \n",
       "\n",
       "   Время тепловой ишемии  Агепатика  Возраст донора  Стеатоз  Кровопотеря  РДТ  \n",
       "3                   50.0       50.0              48       10        500.0    1  \n",
       "4                   70.0       70.0              40        0        700.0    1  \n",
       "6                   65.0       65.0              50       20       1200.0    0  \n",
       "7                   55.0       50.0              28        0       1400.0    1  \n",
       "8                   55.0       55.0              19        0       1600.0    1  \n",
       "\n",
       "[5 rows x 21 columns]"
      ]
     },
     "execution_count": 50,
     "metadata": {},
     "output_type": "execute_result"
    }
   ],
   "source": [
    "df = liver_df[signs_name + [target_name]]\n",
    "df.head()"
   ]
  },
  {
   "cell_type": "markdown",
   "id": "3b45bfe3",
   "metadata": {},
   "source": [
    "Разбиение на train и test"
   ]
  },
  {
   "cell_type": "code",
   "execution_count": 51,
   "id": "6d9aae16",
   "metadata": {},
   "outputs": [],
   "source": [
    "X = df[signs_name]\n",
    "y = df[target_name]\n",
    "\n",
    "X_train, X_test, y_train, y_test = train_test_split(X, y, test_size=0.33, shuffle=True, random_state=42)"
   ]
  },
  {
   "cell_type": "markdown",
   "id": "7e6de1f1",
   "metadata": {},
   "source": [
    "# Построение модели"
   ]
  },
  {
   "cell_type": "markdown",
   "id": "3e80aab7",
   "metadata": {},
   "source": [
    "Учитывая, что показатель, который мне нужно определить бинарный.\n",
    "Правильно использовать метод логистической регрессии."
   ]
  },
  {
   "cell_type": "code",
   "execution_count": 77,
   "id": "5b9272b6",
   "metadata": {},
   "outputs": [],
   "source": [
    "# Строим модель, используя все признаки\n",
    "lr = LogisticRegression(solver=\"liblinear\")\n",
    "\n",
    "lr.fit(X_train, y_train)\n",
    "\n",
    "y_pred = lr.predict(X_test)"
   ]
  },
  {
   "cell_type": "markdown",
   "id": "902c56d4",
   "metadata": {},
   "source": [
    "Проверка качества метода"
   ]
  },
  {
   "cell_type": "code",
   "execution_count": 113,
   "id": "d0f2e445",
   "metadata": {},
   "outputs": [
    {
     "data": {
      "text/plain": [
       "0.889763779527559"
      ]
     },
     "execution_count": 113,
     "metadata": {},
     "output_type": "execute_result"
    }
   ],
   "source": [
    "#  метрику accuracy (точность), метрика качества\n",
    "accuracy_score(y_test, y_pred)"
   ]
  },
  {
   "cell_type": "code",
   "execution_count": 114,
   "id": "d7c9bacd",
   "metadata": {},
   "outputs": [
    {
     "data": {
      "text/plain": [
       "0.89453125"
      ]
     },
     "execution_count": 114,
     "metadata": {},
     "output_type": "execute_result"
    }
   ],
   "source": [
    "# Делаем предсказание на тренировочном датасете\n",
    "y_pred_train = lr.predict(X_train)\n",
    "\n",
    "accuracy_score(y_train, y_pred_train)"
   ]
  },
  {
   "cell_type": "code",
   "execution_count": null,
   "id": "d1365777",
   "metadata": {},
   "outputs": [],
   "source": [
    "# Точность на двух методах примерно одинакова, значит модель работает корректно."
   ]
  },
  {
   "cell_type": "code",
   "execution_count": 123,
   "id": "f7e3d96e",
   "metadata": {},
   "outputs": [
    {
     "data": {
      "text/plain": [
       "array([[0.16815687, 0.83184313],\n",
       "       [0.10666575, 0.89333425],\n",
       "       [0.12914959, 0.87085041],\n",
       "       [0.07020659, 0.92979341],\n",
       "       [0.1656114 , 0.8343886 ],\n",
       "       [0.12865976, 0.87134024],\n",
       "       [0.1178651 , 0.8821349 ],\n",
       "       [0.99163482, 0.00836518],\n",
       "       [0.07640653, 0.92359347],\n",
       "       [0.11868215, 0.88131785]])"
      ]
     },
     "execution_count": 123,
     "metadata": {},
     "output_type": "execute_result"
    }
   ],
   "source": [
    "# Вероятность принадлежности к классу и метрика AUC\n",
    "y_pred_proba = lr.predict_proba(X_test)\n",
    "y_pred_proba[:10]"
   ]
  },
  {
   "cell_type": "code",
   "execution_count": 101,
   "id": "b18130ad",
   "metadata": {},
   "outputs": [
    {
     "data": {
      "text/plain": [
       "<matplotlib.legend.Legend at 0x213cce968f0>"
      ]
     },
     "execution_count": 101,
     "metadata": {},
     "output_type": "execute_result"
    },
    {
     "data": {
      "image/png": "[encoded data removed]",
      "text/plain": [
       "<Figure size 432x288 with 1 Axes>"
      ]
     },
     "metadata": {
      "needs_background": "light"
     },
     "output_type": "display_data"
    }
   ],
   "source": [
    "# Построим гистограмму\n",
    "\n",
    "plt.hist(y_pred_proba[y_test == 1], bins=7, density=True, label='class 1', alpha=0.5)\n",
    "plt.hist(y_pred_proba[y_test == 0], bins=7, density=True, label='class 0', alpha=0.5)\n",
    "\n",
    "plt.xlabel(\"Probability\")\n",
    "plt.ylabel(\"Density\")\n",
    "\n",
    "plt.legend()"
   ]
  },
  {
   "cell_type": "code",
   "execution_count": 102,
   "id": "784aae10",
   "metadata": {},
   "outputs": [
    {
     "data": {
      "image/png": "[encoded data removed]",
      "text/plain": [
       "<Figure size 432x288 with 1 Axes>"
      ]
     },
     "metadata": {
      "needs_background": "light"
     },
     "output_type": "display_data"
    }
   ],
   "source": [
    "# Строим ROC кривую\n",
    "logit_roc_auc = roc_auc_score(y_test, y_pred)\n",
    "fpr, tpr, thresholds = roc_curve(y_test, y_pred)\n",
    "plt.figure()\n",
    "plt.plot(fpr, tpr, label='Logistic Regression (area = %0.2f)' % logit_roc_auc)\n",
    "plt.plot([0, 1], [0, 1],'r--')\n",
    "plt.xlim([0.0, 1.0])\n",
    "plt.ylim([0.0, 1.05])\n",
    "plt.xlabel('False Positive Rate')\n",
    "plt.ylabel('True Positive Rate')\n",
    "plt.title('Receiver operating characteristic')\n",
    "plt.legend(loc=\"lower right\")\n",
    "plt.savefig('Log_ROC')\n",
    "plt.show()"
   ]
  },
  {
   "cell_type": "markdown",
   "id": "dc0df682",
   "metadata": {},
   "source": [
    "Попробуем метод SVC - метод опорных векторов"
   ]
  },
  {
   "cell_type": "code",
   "execution_count": 60,
   "id": "74b4ebb0",
   "metadata": {},
   "outputs": [],
   "source": [
    "# Проводим нормализацию признаков\n",
    "\n",
    "scaler = MinMaxScaler()\n",
    "\n",
    "X_train = pd.DataFrame(scaler.fit_transform(X_train), columns=X_train.columns)\n",
    "\n",
    "X_test = pd.DataFrame(scaler.transform(X_test), columns=X_test.columns)"
   ]
  },
  {
   "cell_type": "code",
   "execution_count": 143,
   "id": "7532cecb",
   "metadata": {},
   "outputs": [],
   "source": [
    "# Обучение модели\n",
    "clf = SVC(gamma=\"auto\")\n",
    "\n",
    "clf.fit(X_train, y_train)\n",
    "\n",
    "y_pred = clf.predict(X_test)\n",
    "y_pred_train = clf.predict(X_train)"
   ]
  },
  {
   "cell_type": "code",
   "execution_count": 84,
   "id": "02d56739",
   "metadata": {},
   "outputs": [
    {
     "data": {
      "text/plain": [
       "0.889763779527559"
      ]
     },
     "execution_count": 84,
     "metadata": {},
     "output_type": "execute_result"
    }
   ],
   "source": [
    "#  метрику accuracy (точность), метрика качества\n",
    "accuracy_score(y_test, y_pred)"
   ]
  },
  {
   "cell_type": "code",
   "execution_count": 85,
   "id": "437b1512",
   "metadata": {},
   "outputs": [
    {
     "data": {
      "text/plain": [
       "0.89453125"
      ]
     },
     "execution_count": 85,
     "metadata": {},
     "output_type": "execute_result"
    }
   ],
   "source": [
    "# Делаем предсказание на тренировочном датасете\n",
    "accuracy_score(y_train, y_pred_train)"
   ]
  },
  {
   "cell_type": "code",
   "execution_count": 93,
   "id": "0929aa83",
   "metadata": {},
   "outputs": [
    {
     "name": "stdout",
     "output_type": "stream",
     "text": [
      "[[17 12]\n",
      " [ 2 96]]\n",
      "Модель правильно классифицировала 96\n"
     ]
    }
   ],
   "source": [
    "# Так как выборка несбалансирована, используем другую метрику качества - матрицу ошибок\n",
    "cm = confusion_matrix(y_test, y_pred)\n",
    "print(cm)\n",
    "\n",
    "TP = ((y_pred == 1) & (y_test) == 1).sum()\n",
    "print('Модель правильно классифицировала', TP)\n",
    "\n",
    "TN = cm[0, 0]\n",
    "FP = cm[0, 1]\n",
    "FN = cm[1, 0]"
   ]
  },
  {
   "cell_type": "code",
   "execution_count": 95,
   "id": "24ab092b",
   "metadata": {},
   "outputs": [
    {
     "name": "stdout",
     "output_type": "stream",
     "text": [
      "Точность и полнота: 0.8347826086956521\n"
     ]
    }
   ],
   "source": [
    "precision = TP / (TP + FP)\n",
    "print('Точность и полнота:', precision)"
   ]
  },
  {
   "cell_type": "code",
   "execution_count": 96,
   "id": "04b817e9",
   "metadata": {},
   "outputs": [
    {
     "data": {
      "text/plain": [
       "0.9795918367346939"
      ]
     },
     "execution_count": 96,
     "metadata": {},
     "output_type": "execute_result"
    }
   ],
   "source": [
    "# Еше один способ определения качества, он как предыдущий, но дает лучший результат\n",
    "from sklearn.metrics import recall_score\n",
    "\n",
    "recall_score(y_test, y_pred)"
   ]
  },
  {
   "cell_type": "markdown",
   "id": "73c66cab",
   "metadata": {},
   "source": [
    "F-мера - комбинирует дву предыдущие метрики"
   ]
  },
  {
   "cell_type": "code",
   "execution_count": 112,
   "id": "f44e09ca",
   "metadata": {},
   "outputs": [
    {
     "data": {
      "text/plain": [
       "0.9320388349514563"
      ]
     },
     "execution_count": 112,
     "metadata": {},
     "output_type": "execute_result"
    }
   ],
   "source": [
    "f1_score(y_test, y_pred)"
   ]
  },
  {
   "cell_type": "markdown",
   "id": "e4742598",
   "metadata": {},
   "source": [
    "Метод SVC показал лучшие результаты по сравнению с логистической регрессией."
   ]
  },
  {
   "cell_type": "markdown",
   "id": "59753563",
   "metadata": {},
   "source": [
    "# Оценка признаков"
   ]
  },
  {
   "cell_type": "code",
   "execution_count": 150,
   "id": "2de4fd6f",
   "metadata": {},
   "outputs": [],
   "source": [
    "y_pred = pd.DataFrame(zip(X_train.columns, \n",
    "                                       y_pred), \n",
    "                                   columns=['feature_name', 'importance'])\n",
    "\n",
    "y_pred.sort_values(by='importance', ascending=False, inplace=True)"
   ]
  },
  {
   "cell_type": "code",
   "execution_count": 152,
   "id": "8f2350b2",
   "metadata": {},
   "outputs": [
    {
     "data": {
      "text/plain": [
       "<bound method NDFrame.head of              feature_name  importance\n",
       "3              Фульминант    0.929793\n",
       "8                Альбумин    0.923593\n",
       "1                    MELD    0.893334\n",
       "10          АСТ (2 суток)    0.892805\n",
       "19            Кровопотеря    0.891461\n",
       "14           Общая ишемия    0.885206\n",
       "15  Время тепловой ишемии    0.884793\n",
       "6              Осложнения    0.882135\n",
       "9           АСТ (1 сутки)    0.881318\n",
       "12          АЛТ (2 суток)    0.879293\n",
       "16              Агепатика    0.878423\n",
       "5        Ретрансплантация    0.871340\n",
       "13             Консервант    0.871242\n",
       "2               Этиология    0.870850\n",
       "18                Стеатоз    0.842642\n",
       "4               Ургентные    0.834389\n",
       "0      Возраст реципиента    0.831843\n",
       "17         Возраст донора    0.807808\n",
       "11          АЛТ (1 сутки)    0.411241\n",
       "7           Релапаротомия    0.008365>"
      ]
     },
     "execution_count": 152,
     "metadata": {},
     "output_type": "execute_result"
    }
   ],
   "source": [
    "y_pred_proba.head"
   ]
  },
  {
   "cell_type": "code",
   "execution_count": 145,
   "id": "00bfc7ef",
   "metadata": {},
   "outputs": [
    {
     "data": {
      "text/html": [
       "<div>\n",
       "<style scoped>\n",
       "    .dataframe tbody tr th:only-of-type {\n",
       "        vertical-align: middle;\n",
       "    }\n",
       "\n",
       "    .dataframe tbody tr th {\n",
       "        vertical-align: top;\n",
       "    }\n",
       "\n",
       "    .dataframe thead th {\n",
       "        text-align: right;\n",
       "    }\n",
       "</style>\n",
       "<table border=\"1\" class=\"dataframe\">\n",
       "  <thead>\n",
       "    <tr style=\"text-align: right;\">\n",
       "      <th></th>\n",
       "      <th>y_test</th>\n",
       "      <th>y_pred</th>\n",
       "    </tr>\n",
       "  </thead>\n",
       "  <tbody>\n",
       "    <tr>\n",
       "      <th>158</th>\n",
       "      <td>1</td>\n",
       "      <td>1</td>\n",
       "    </tr>\n",
       "    <tr>\n",
       "      <th>307</th>\n",
       "      <td>1</td>\n",
       "      <td>1</td>\n",
       "    </tr>\n",
       "    <tr>\n",
       "      <th>185</th>\n",
       "      <td>1</td>\n",
       "      <td>1</td>\n",
       "    </tr>\n",
       "    <tr>\n",
       "      <th>292</th>\n",
       "      <td>1</td>\n",
       "      <td>1</td>\n",
       "    </tr>\n",
       "    <tr>\n",
       "      <th>302</th>\n",
       "      <td>1</td>\n",
       "      <td>1</td>\n",
       "    </tr>\n",
       "    <tr>\n",
       "      <th>454</th>\n",
       "      <td>1</td>\n",
       "      <td>1</td>\n",
       "    </tr>\n",
       "    <tr>\n",
       "      <th>252</th>\n",
       "      <td>0</td>\n",
       "      <td>1</td>\n",
       "    </tr>\n",
       "    <tr>\n",
       "      <th>278</th>\n",
       "      <td>0</td>\n",
       "      <td>1</td>\n",
       "    </tr>\n",
       "    <tr>\n",
       "      <th>406</th>\n",
       "      <td>1</td>\n",
       "      <td>1</td>\n",
       "    </tr>\n",
       "    <tr>\n",
       "      <th>206</th>\n",
       "      <td>1</td>\n",
       "      <td>1</td>\n",
       "    </tr>\n",
       "  </tbody>\n",
       "</table>\n",
       "</div>"
      ],
      "text/plain": [
       "     y_test  y_pred\n",
       "158       1       1\n",
       "307       1       1\n",
       "185       1       1\n",
       "292       1       1\n",
       "302       1       1\n",
       "454       1       1\n",
       "252       0       1\n",
       "278       0       1\n",
       "406       1       1\n",
       "206       1       1"
      ]
     },
     "execution_count": 145,
     "metadata": {},
     "output_type": "execute_result"
    }
   ],
   "source": [
    "check_test = pd.DataFrame({\n",
    "    \"y_test\": y_test,\n",
    "    \"y_pred\": y_pred.flatten(),\n",
    "})\n",
    "\n",
    "check_test.tail(10)"
   ]
  },
  {
   "cell_type": "markdown",
   "id": "e8901dad",
   "metadata": {},
   "source": [
    "# Сохранение модели"
   ]
  },
  {
   "cell_type": "code",
   "execution_count": 154,
   "id": "a9ceeaf5",
   "metadata": {},
   "outputs": [],
   "source": [
    "with open('y_pred.pkl','wb') as f:\n",
    "    pickle.dump(y_pred,f)"
   ]
  },
  {
   "cell_type": "code",
   "execution_count": 155,
   "id": "a883e895",
   "metadata": {},
   "outputs": [],
   "source": [
    "liver_df.to_csv('C:\\\\Users\\\\Вася\\\\Desktop\\\\Ординатура\\\\База печень.csv', index=False, encoding='utf-8', sep=';')"
   ]
  },
  {
   "cell_type": "code",
   "execution_count": null,
   "id": "9559d9a2",
   "metadata": {},
   "outputs": [],
   "source": []
  }
 ],
 "metadata": {
  "kernelspec": {
   "display_name": "Python 3 (ipykernel)",
   "language": "python",
   "name": "python3"
  },
  "language_info": {
   "codemirror_mode": {
    "name": "ipython",
    "version": 3
   },
   "file_extension": ".py",
   "mimetype": "text/x-python",
   "name": "python",
   "nbconvert_exporter": "python",
   "pygments_lexer": "ipython3",
   "version": "3.10.3"
  }
 },
 "nbformat": 4,
 "nbformat_minor": 5
}
